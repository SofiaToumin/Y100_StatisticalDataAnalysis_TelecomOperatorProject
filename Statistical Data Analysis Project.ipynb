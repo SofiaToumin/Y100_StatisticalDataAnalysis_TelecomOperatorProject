{
 "cells": [
  {
   "cell_type": "markdown",
   "metadata": {},
   "source": [
    "# Statistical Data Analysis Project"
   ]
  },
  {
   "cell_type": "markdown",
   "metadata": {},
   "source": [
    "## Project Description"
   ]
  },
  {
   "cell_type": "markdown",
   "metadata": {},
   "source": [
    "You work as an analyst for the telecom operator Megaline. The company offers its clients two prepaid plans, Surf and Ultimate. The commercial department wants to know which of the plans is more profitable in order to adjust the advertising budget.\n",
    "You are going to carry out a preliminary analysis of the plans based on a relatively small client selection. You'll have the data on 500 Megaline clients: who the clients are, where they're from, which plan they use, and the number of calls they made and text messages they sent in 2018. Your job is to analyze clients' behavior and determine which prepaid plan is more profitable."
   ]
  },
  {
   "cell_type": "markdown",
   "metadata": {},
   "source": [
    "## Table of Contents:\n",
    "\n",
    "1. [Open the data file and study the general information](#part1) <br>\n",
    "2. Prepare the data: <br>\n",
    "    2.1 [Find and eliminate errors, convert data types](#part2_1) <br>\n",
    "    2.2 [For each user find monthly usage of services](#part2_2) <br>\n",
    "    2.3 [Calculate monthly revenue for each user](#part2_3) <br>\n",
    "3. Analyze the data: <br>\n",
    "    3.1 [Customer behavior in general](#part3_1) <br>\n",
    "    3.2 [Differences in customer behavior of Surf/Ultimate plan users](#part3_2) <br>\n",
    "4. Test the hypotheses: <br>\n",
    "    4.1 [The average revenue from users of Ultimate and Surf calling plans differs](#part4_1) <br>\n",
    "    4.2 [The average revenue from users in NY-NJ area is different from that of the users from other regions](#part4_2) <br>\n",
    "5. [Overall conclusion](#part5)"
   ]
  },
  {
   "cell_type": "markdown",
   "metadata": {},
   "source": [
    "<a id=\"part1\"></a>\n",
    "### Open the data file and study the general information"
   ]
  },
  {
   "cell_type": "code",
   "execution_count": 1,
   "metadata": {},
   "outputs": [],
   "source": [
    "import pandas as pd\n",
    "import numpy as np\n",
    "from scipy import stats as st\n",
    "from matplotlib import pyplot as plt\n",
    "from functools import reduce\n",
    "import math"
   ]
  },
  {
   "cell_type": "code",
   "execution_count": 2,
   "metadata": {},
   "outputs": [
    {
     "data": {
      "text/html": [
       "<div>\n",
       "<style scoped>\n",
       "    .dataframe tbody tr th:only-of-type {\n",
       "        vertical-align: middle;\n",
       "    }\n",
       "\n",
       "    .dataframe tbody tr th {\n",
       "        vertical-align: top;\n",
       "    }\n",
       "\n",
       "    .dataframe thead th {\n",
       "        text-align: right;\n",
       "    }\n",
       "</style>\n",
       "<table border=\"1\" class=\"dataframe\">\n",
       "  <thead>\n",
       "    <tr style=\"text-align: right;\">\n",
       "      <th></th>\n",
       "      <th>user_id</th>\n",
       "      <th>first_name</th>\n",
       "      <th>last_name</th>\n",
       "      <th>age</th>\n",
       "      <th>city</th>\n",
       "      <th>reg_date</th>\n",
       "      <th>plan</th>\n",
       "      <th>churn_date</th>\n",
       "    </tr>\n",
       "  </thead>\n",
       "  <tbody>\n",
       "    <tr>\n",
       "      <td>0</td>\n",
       "      <td>1000</td>\n",
       "      <td>Anamaria</td>\n",
       "      <td>Bauer</td>\n",
       "      <td>45</td>\n",
       "      <td>Atlanta-Sandy Springs-Roswell, GA MSA</td>\n",
       "      <td>2018-12-24</td>\n",
       "      <td>ultimate</td>\n",
       "      <td>NaN</td>\n",
       "    </tr>\n",
       "    <tr>\n",
       "      <td>1</td>\n",
       "      <td>1001</td>\n",
       "      <td>Mickey</td>\n",
       "      <td>Wilkerson</td>\n",
       "      <td>28</td>\n",
       "      <td>Seattle-Tacoma-Bellevue, WA MSA</td>\n",
       "      <td>2018-08-13</td>\n",
       "      <td>surf</td>\n",
       "      <td>NaN</td>\n",
       "    </tr>\n",
       "    <tr>\n",
       "      <td>2</td>\n",
       "      <td>1002</td>\n",
       "      <td>Carlee</td>\n",
       "      <td>Hoffman</td>\n",
       "      <td>36</td>\n",
       "      <td>Las Vegas-Henderson-Paradise, NV MSA</td>\n",
       "      <td>2018-10-21</td>\n",
       "      <td>surf</td>\n",
       "      <td>NaN</td>\n",
       "    </tr>\n",
       "    <tr>\n",
       "      <td>3</td>\n",
       "      <td>1003</td>\n",
       "      <td>Reynaldo</td>\n",
       "      <td>Jenkins</td>\n",
       "      <td>52</td>\n",
       "      <td>Tulsa, OK MSA</td>\n",
       "      <td>2018-01-28</td>\n",
       "      <td>surf</td>\n",
       "      <td>NaN</td>\n",
       "    </tr>\n",
       "    <tr>\n",
       "      <td>4</td>\n",
       "      <td>1004</td>\n",
       "      <td>Leonila</td>\n",
       "      <td>Thompson</td>\n",
       "      <td>40</td>\n",
       "      <td>Seattle-Tacoma-Bellevue, WA MSA</td>\n",
       "      <td>2018-05-23</td>\n",
       "      <td>surf</td>\n",
       "      <td>NaN</td>\n",
       "    </tr>\n",
       "  </tbody>\n",
       "</table>\n",
       "</div>"
      ],
      "text/plain": [
       "   user_id first_name  last_name  age                                   city  \\\n",
       "0     1000   Anamaria      Bauer   45  Atlanta-Sandy Springs-Roswell, GA MSA   \n",
       "1     1001     Mickey  Wilkerson   28        Seattle-Tacoma-Bellevue, WA MSA   \n",
       "2     1002     Carlee    Hoffman   36   Las Vegas-Henderson-Paradise, NV MSA   \n",
       "3     1003   Reynaldo    Jenkins   52                          Tulsa, OK MSA   \n",
       "4     1004    Leonila   Thompson   40        Seattle-Tacoma-Bellevue, WA MSA   \n",
       "\n",
       "     reg_date      plan churn_date  \n",
       "0  2018-12-24  ultimate        NaN  \n",
       "1  2018-08-13      surf        NaN  \n",
       "2  2018-10-21      surf        NaN  \n",
       "3  2018-01-28      surf        NaN  \n",
       "4  2018-05-23      surf        NaN  "
      ]
     },
     "metadata": {},
     "output_type": "display_data"
    },
    {
     "name": "stdout",
     "output_type": "stream",
     "text": [
      "<class 'pandas.core.frame.DataFrame'>\n",
      "RangeIndex: 500 entries, 0 to 499\n",
      "Data columns (total 8 columns):\n",
      "user_id       500 non-null int64\n",
      "first_name    500 non-null object\n",
      "last_name     500 non-null object\n",
      "age           500 non-null int64\n",
      "city          500 non-null object\n",
      "reg_date      500 non-null object\n",
      "plan          500 non-null object\n",
      "churn_date    34 non-null object\n",
      "dtypes: int64(2), object(6)\n",
      "memory usage: 31.4+ KB\n",
      "None\n"
     ]
    }
   ],
   "source": [
    "data_users = pd.read_csv('/datasets/megaline_users.csv')\n",
    "display(data_users.head())\n",
    "print(data_users.info())"
   ]
  },
  {
   "cell_type": "code",
   "execution_count": 3,
   "metadata": {},
   "outputs": [
    {
     "data": {
      "text/html": [
       "<div>\n",
       "<style scoped>\n",
       "    .dataframe tbody tr th:only-of-type {\n",
       "        vertical-align: middle;\n",
       "    }\n",
       "\n",
       "    .dataframe tbody tr th {\n",
       "        vertical-align: top;\n",
       "    }\n",
       "\n",
       "    .dataframe thead th {\n",
       "        text-align: right;\n",
       "    }\n",
       "</style>\n",
       "<table border=\"1\" class=\"dataframe\">\n",
       "  <thead>\n",
       "    <tr style=\"text-align: right;\">\n",
       "      <th></th>\n",
       "      <th>messages_included</th>\n",
       "      <th>mb_per_month_included</th>\n",
       "      <th>minutes_included</th>\n",
       "      <th>usd_monthly_pay</th>\n",
       "      <th>usd_per_gb</th>\n",
       "      <th>usd_per_message</th>\n",
       "      <th>usd_per_minute</th>\n",
       "      <th>plan_name</th>\n",
       "    </tr>\n",
       "  </thead>\n",
       "  <tbody>\n",
       "    <tr>\n",
       "      <td>0</td>\n",
       "      <td>50</td>\n",
       "      <td>15360</td>\n",
       "      <td>500</td>\n",
       "      <td>20</td>\n",
       "      <td>10</td>\n",
       "      <td>0.03</td>\n",
       "      <td>0.03</td>\n",
       "      <td>surf</td>\n",
       "    </tr>\n",
       "    <tr>\n",
       "      <td>1</td>\n",
       "      <td>1000</td>\n",
       "      <td>30720</td>\n",
       "      <td>3000</td>\n",
       "      <td>70</td>\n",
       "      <td>7</td>\n",
       "      <td>0.01</td>\n",
       "      <td>0.01</td>\n",
       "      <td>ultimate</td>\n",
       "    </tr>\n",
       "  </tbody>\n",
       "</table>\n",
       "</div>"
      ],
      "text/plain": [
       "   messages_included  mb_per_month_included  minutes_included  \\\n",
       "0                 50                  15360               500   \n",
       "1               1000                  30720              3000   \n",
       "\n",
       "   usd_monthly_pay  usd_per_gb  usd_per_message  usd_per_minute plan_name  \n",
       "0               20          10             0.03            0.03      surf  \n",
       "1               70           7             0.01            0.01  ultimate  "
      ]
     },
     "metadata": {},
     "output_type": "display_data"
    },
    {
     "name": "stdout",
     "output_type": "stream",
     "text": [
      "<class 'pandas.core.frame.DataFrame'>\n",
      "RangeIndex: 2 entries, 0 to 1\n",
      "Data columns (total 8 columns):\n",
      "messages_included        2 non-null int64\n",
      "mb_per_month_included    2 non-null int64\n",
      "minutes_included         2 non-null int64\n",
      "usd_monthly_pay          2 non-null int64\n",
      "usd_per_gb               2 non-null int64\n",
      "usd_per_message          2 non-null float64\n",
      "usd_per_minute           2 non-null float64\n",
      "plan_name                2 non-null object\n",
      "dtypes: float64(2), int64(5), object(1)\n",
      "memory usage: 256.0+ bytes\n",
      "None\n"
     ]
    }
   ],
   "source": [
    "data_plans = pd.read_csv('/datasets/megaline_plans.csv')\n",
    "display(data_plans.head())\n",
    "print(data_plans.info())"
   ]
  },
  {
   "cell_type": "code",
   "execution_count": 4,
   "metadata": {},
   "outputs": [
    {
     "data": {
      "text/html": [
       "<div>\n",
       "<style scoped>\n",
       "    .dataframe tbody tr th:only-of-type {\n",
       "        vertical-align: middle;\n",
       "    }\n",
       "\n",
       "    .dataframe tbody tr th {\n",
       "        vertical-align: top;\n",
       "    }\n",
       "\n",
       "    .dataframe thead th {\n",
       "        text-align: right;\n",
       "    }\n",
       "</style>\n",
       "<table border=\"1\" class=\"dataframe\">\n",
       "  <thead>\n",
       "    <tr style=\"text-align: right;\">\n",
       "      <th></th>\n",
       "      <th>id</th>\n",
       "      <th>user_id</th>\n",
       "      <th>call_date</th>\n",
       "      <th>duration</th>\n",
       "    </tr>\n",
       "  </thead>\n",
       "  <tbody>\n",
       "    <tr>\n",
       "      <td>0</td>\n",
       "      <td>1000_93</td>\n",
       "      <td>1000</td>\n",
       "      <td>2018-12-27</td>\n",
       "      <td>8.52</td>\n",
       "    </tr>\n",
       "    <tr>\n",
       "      <td>1</td>\n",
       "      <td>1000_145</td>\n",
       "      <td>1000</td>\n",
       "      <td>2018-12-27</td>\n",
       "      <td>13.66</td>\n",
       "    </tr>\n",
       "    <tr>\n",
       "      <td>2</td>\n",
       "      <td>1000_247</td>\n",
       "      <td>1000</td>\n",
       "      <td>2018-12-27</td>\n",
       "      <td>14.48</td>\n",
       "    </tr>\n",
       "    <tr>\n",
       "      <td>3</td>\n",
       "      <td>1000_309</td>\n",
       "      <td>1000</td>\n",
       "      <td>2018-12-28</td>\n",
       "      <td>5.76</td>\n",
       "    </tr>\n",
       "    <tr>\n",
       "      <td>4</td>\n",
       "      <td>1000_380</td>\n",
       "      <td>1000</td>\n",
       "      <td>2018-12-30</td>\n",
       "      <td>4.22</td>\n",
       "    </tr>\n",
       "  </tbody>\n",
       "</table>\n",
       "</div>"
      ],
      "text/plain": [
       "         id  user_id   call_date  duration\n",
       "0   1000_93     1000  2018-12-27      8.52\n",
       "1  1000_145     1000  2018-12-27     13.66\n",
       "2  1000_247     1000  2018-12-27     14.48\n",
       "3  1000_309     1000  2018-12-28      5.76\n",
       "4  1000_380     1000  2018-12-30      4.22"
      ]
     },
     "metadata": {},
     "output_type": "display_data"
    },
    {
     "name": "stdout",
     "output_type": "stream",
     "text": [
      "<class 'pandas.core.frame.DataFrame'>\n",
      "RangeIndex: 137735 entries, 0 to 137734\n",
      "Data columns (total 4 columns):\n",
      "id           137735 non-null object\n",
      "user_id      137735 non-null int64\n",
      "call_date    137735 non-null object\n",
      "duration     137735 non-null float64\n",
      "dtypes: float64(1), int64(1), object(2)\n",
      "memory usage: 4.2+ MB\n",
      "None\n"
     ]
    }
   ],
   "source": [
    "data_calls = pd.read_csv('/datasets/megaline_calls.csv')\n",
    "display(data_calls.head())\n",
    "print(data_calls.info())"
   ]
  },
  {
   "cell_type": "code",
   "execution_count": 5,
   "metadata": {},
   "outputs": [
    {
     "data": {
      "text/html": [
       "<div>\n",
       "<style scoped>\n",
       "    .dataframe tbody tr th:only-of-type {\n",
       "        vertical-align: middle;\n",
       "    }\n",
       "\n",
       "    .dataframe tbody tr th {\n",
       "        vertical-align: top;\n",
       "    }\n",
       "\n",
       "    .dataframe thead th {\n",
       "        text-align: right;\n",
       "    }\n",
       "</style>\n",
       "<table border=\"1\" class=\"dataframe\">\n",
       "  <thead>\n",
       "    <tr style=\"text-align: right;\">\n",
       "      <th></th>\n",
       "      <th>id</th>\n",
       "      <th>user_id</th>\n",
       "      <th>message_date</th>\n",
       "    </tr>\n",
       "  </thead>\n",
       "  <tbody>\n",
       "    <tr>\n",
       "      <td>0</td>\n",
       "      <td>1000_125</td>\n",
       "      <td>1000</td>\n",
       "      <td>2018-12-27</td>\n",
       "    </tr>\n",
       "    <tr>\n",
       "      <td>1</td>\n",
       "      <td>1000_160</td>\n",
       "      <td>1000</td>\n",
       "      <td>2018-12-31</td>\n",
       "    </tr>\n",
       "    <tr>\n",
       "      <td>2</td>\n",
       "      <td>1000_223</td>\n",
       "      <td>1000</td>\n",
       "      <td>2018-12-31</td>\n",
       "    </tr>\n",
       "    <tr>\n",
       "      <td>3</td>\n",
       "      <td>1000_251</td>\n",
       "      <td>1000</td>\n",
       "      <td>2018-12-27</td>\n",
       "    </tr>\n",
       "    <tr>\n",
       "      <td>4</td>\n",
       "      <td>1000_255</td>\n",
       "      <td>1000</td>\n",
       "      <td>2018-12-26</td>\n",
       "    </tr>\n",
       "  </tbody>\n",
       "</table>\n",
       "</div>"
      ],
      "text/plain": [
       "         id  user_id message_date\n",
       "0  1000_125     1000   2018-12-27\n",
       "1  1000_160     1000   2018-12-31\n",
       "2  1000_223     1000   2018-12-31\n",
       "3  1000_251     1000   2018-12-27\n",
       "4  1000_255     1000   2018-12-26"
      ]
     },
     "metadata": {},
     "output_type": "display_data"
    },
    {
     "name": "stdout",
     "output_type": "stream",
     "text": [
      "<class 'pandas.core.frame.DataFrame'>\n",
      "RangeIndex: 76051 entries, 0 to 76050\n",
      "Data columns (total 3 columns):\n",
      "id              76051 non-null object\n",
      "user_id         76051 non-null int64\n",
      "message_date    76051 non-null object\n",
      "dtypes: int64(1), object(2)\n",
      "memory usage: 1.7+ MB\n",
      "None\n"
     ]
    }
   ],
   "source": [
    "data_messages = pd.read_csv('/datasets/megaline_messages.csv')\n",
    "display(data_messages.head())\n",
    "print(data_messages.info())"
   ]
  },
  {
   "cell_type": "code",
   "execution_count": 6,
   "metadata": {},
   "outputs": [
    {
     "data": {
      "text/html": [
       "<div>\n",
       "<style scoped>\n",
       "    .dataframe tbody tr th:only-of-type {\n",
       "        vertical-align: middle;\n",
       "    }\n",
       "\n",
       "    .dataframe tbody tr th {\n",
       "        vertical-align: top;\n",
       "    }\n",
       "\n",
       "    .dataframe thead th {\n",
       "        text-align: right;\n",
       "    }\n",
       "</style>\n",
       "<table border=\"1\" class=\"dataframe\">\n",
       "  <thead>\n",
       "    <tr style=\"text-align: right;\">\n",
       "      <th></th>\n",
       "      <th>id</th>\n",
       "      <th>user_id</th>\n",
       "      <th>session_date</th>\n",
       "      <th>mb_used</th>\n",
       "    </tr>\n",
       "  </thead>\n",
       "  <tbody>\n",
       "    <tr>\n",
       "      <td>0</td>\n",
       "      <td>1000_13</td>\n",
       "      <td>1000</td>\n",
       "      <td>2018-12-29</td>\n",
       "      <td>89.86</td>\n",
       "    </tr>\n",
       "    <tr>\n",
       "      <td>1</td>\n",
       "      <td>1000_204</td>\n",
       "      <td>1000</td>\n",
       "      <td>2018-12-31</td>\n",
       "      <td>0.00</td>\n",
       "    </tr>\n",
       "    <tr>\n",
       "      <td>2</td>\n",
       "      <td>1000_379</td>\n",
       "      <td>1000</td>\n",
       "      <td>2018-12-28</td>\n",
       "      <td>660.40</td>\n",
       "    </tr>\n",
       "    <tr>\n",
       "      <td>3</td>\n",
       "      <td>1000_413</td>\n",
       "      <td>1000</td>\n",
       "      <td>2018-12-26</td>\n",
       "      <td>270.99</td>\n",
       "    </tr>\n",
       "    <tr>\n",
       "      <td>4</td>\n",
       "      <td>1000_442</td>\n",
       "      <td>1000</td>\n",
       "      <td>2018-12-27</td>\n",
       "      <td>880.22</td>\n",
       "    </tr>\n",
       "  </tbody>\n",
       "</table>\n",
       "</div>"
      ],
      "text/plain": [
       "         id  user_id session_date  mb_used\n",
       "0   1000_13     1000   2018-12-29    89.86\n",
       "1  1000_204     1000   2018-12-31     0.00\n",
       "2  1000_379     1000   2018-12-28   660.40\n",
       "3  1000_413     1000   2018-12-26   270.99\n",
       "4  1000_442     1000   2018-12-27   880.22"
      ]
     },
     "metadata": {},
     "output_type": "display_data"
    },
    {
     "name": "stdout",
     "output_type": "stream",
     "text": [
      "<class 'pandas.core.frame.DataFrame'>\n",
      "RangeIndex: 104825 entries, 0 to 104824\n",
      "Data columns (total 4 columns):\n",
      "id              104825 non-null object\n",
      "user_id         104825 non-null int64\n",
      "session_date    104825 non-null object\n",
      "mb_used         104825 non-null float64\n",
      "dtypes: float64(1), int64(1), object(2)\n",
      "memory usage: 3.2+ MB\n",
      "None\n"
     ]
    }
   ],
   "source": [
    "data_internet = pd.read_csv('/datasets/megaline_internet.csv')\n",
    "display(data_internet.head())\n",
    "print(data_internet.info())"
   ]
  },
  {
   "cell_type": "markdown",
   "metadata": {},
   "source": [
    "Everything seems pretty fine, we will change data types for dates in all columns and check every table for errors"
   ]
  },
  {
   "cell_type": "markdown",
   "metadata": {},
   "source": [
    "### Prepare the data"
   ]
  },
  {
   "cell_type": "markdown",
   "metadata": {},
   "source": [
    "<a id=\"part2_1\"></a>\n",
    "#### Find and eliminate errors, convert data types"
   ]
  },
  {
   "cell_type": "code",
   "execution_count": 7,
   "metadata": {
    "scrolled": true
   },
   "outputs": [
    {
     "data": {
      "text/html": [
       "<div>\n",
       "<style scoped>\n",
       "    .dataframe tbody tr th:only-of-type {\n",
       "        vertical-align: middle;\n",
       "    }\n",
       "\n",
       "    .dataframe tbody tr th {\n",
       "        vertical-align: top;\n",
       "    }\n",
       "\n",
       "    .dataframe thead th {\n",
       "        text-align: right;\n",
       "    }\n",
       "</style>\n",
       "<table border=\"1\" class=\"dataframe\">\n",
       "  <thead>\n",
       "    <tr style=\"text-align: right;\">\n",
       "      <th></th>\n",
       "      <th>user_id</th>\n",
       "      <th>first_name</th>\n",
       "      <th>last_name</th>\n",
       "      <th>age</th>\n",
       "      <th>city</th>\n",
       "      <th>reg_date</th>\n",
       "      <th>plan</th>\n",
       "      <th>churn_date</th>\n",
       "      <th>churn_month</th>\n",
       "    </tr>\n",
       "  </thead>\n",
       "  <tbody>\n",
       "    <tr>\n",
       "      <td>480</td>\n",
       "      <td>1480</td>\n",
       "      <td>Jasper</td>\n",
       "      <td>Buchanan</td>\n",
       "      <td>46</td>\n",
       "      <td>St. Louis, MO-IL MSA</td>\n",
       "      <td>2018-12-13</td>\n",
       "      <td>surf</td>\n",
       "      <td>NaT</td>\n",
       "      <td>NaN</td>\n",
       "    </tr>\n",
       "    <tr>\n",
       "      <td>369</td>\n",
       "      <td>1369</td>\n",
       "      <td>Bernard</td>\n",
       "      <td>Mckee</td>\n",
       "      <td>69</td>\n",
       "      <td>Milwaukee-Waukesha, WI MSA</td>\n",
       "      <td>2018-10-06</td>\n",
       "      <td>surf</td>\n",
       "      <td>NaT</td>\n",
       "      <td>NaN</td>\n",
       "    </tr>\n",
       "    <tr>\n",
       "      <td>432</td>\n",
       "      <td>1432</td>\n",
       "      <td>Azucena</td>\n",
       "      <td>Goodwin</td>\n",
       "      <td>59</td>\n",
       "      <td>Salt Lake City, UT MSA</td>\n",
       "      <td>2018-10-03</td>\n",
       "      <td>ultimate</td>\n",
       "      <td>NaT</td>\n",
       "      <td>NaN</td>\n",
       "    </tr>\n",
       "    <tr>\n",
       "      <td>375</td>\n",
       "      <td>1375</td>\n",
       "      <td>Andy</td>\n",
       "      <td>Holden</td>\n",
       "      <td>69</td>\n",
       "      <td>Philadelphia-Camden-Wilmington, PA-NJ-DE-MD MSA</td>\n",
       "      <td>2018-12-01</td>\n",
       "      <td>surf</td>\n",
       "      <td>NaT</td>\n",
       "      <td>NaN</td>\n",
       "    </tr>\n",
       "    <tr>\n",
       "      <td>314</td>\n",
       "      <td>1314</td>\n",
       "      <td>Brice</td>\n",
       "      <td>Morgan</td>\n",
       "      <td>35</td>\n",
       "      <td>Los Angeles-Long Beach-Anaheim, CA MSA</td>\n",
       "      <td>2018-03-06</td>\n",
       "      <td>ultimate</td>\n",
       "      <td>NaT</td>\n",
       "      <td>NaN</td>\n",
       "    </tr>\n",
       "  </tbody>\n",
       "</table>\n",
       "</div>"
      ],
      "text/plain": [
       "     user_id first_name last_name  age  \\\n",
       "480     1480     Jasper  Buchanan   46   \n",
       "369     1369    Bernard     Mckee   69   \n",
       "432     1432    Azucena   Goodwin   59   \n",
       "375     1375       Andy    Holden   69   \n",
       "314     1314      Brice    Morgan   35   \n",
       "\n",
       "                                                city    reg_date      plan  \\\n",
       "480                             St. Louis, MO-IL MSA  2018-12-13      surf   \n",
       "369                       Milwaukee-Waukesha, WI MSA  2018-10-06      surf   \n",
       "432                           Salt Lake City, UT MSA  2018-10-03  ultimate   \n",
       "375  Philadelphia-Camden-Wilmington, PA-NJ-DE-MD MSA  2018-12-01      surf   \n",
       "314           Los Angeles-Long Beach-Anaheim, CA MSA  2018-03-06  ultimate   \n",
       "\n",
       "    churn_date  churn_month  \n",
       "480        NaT          NaN  \n",
       "369        NaT          NaN  \n",
       "432        NaT          NaN  \n",
       "375        NaT          NaN  \n",
       "314        NaT          NaN  "
      ]
     },
     "execution_count": 7,
     "metadata": {},
     "output_type": "execute_result"
    }
   ],
   "source": [
    "#extracting churn month\n",
    "data_users['churn_date'] = pd.to_datetime(data_users['churn_date'], format='%Y-%m-%d') \n",
    "data_users['churn_month'] = data_users.churn_date.dt.month\n",
    "data_users.sample(5)"
   ]
  },
  {
   "cell_type": "code",
   "execution_count": 11,
   "metadata": {},
   "outputs": [
    {
     "data": {
      "text/html": [
       "<div>\n",
       "<style scoped>\n",
       "    .dataframe tbody tr th:only-of-type {\n",
       "        vertical-align: middle;\n",
       "    }\n",
       "\n",
       "    .dataframe tbody tr th {\n",
       "        vertical-align: top;\n",
       "    }\n",
       "\n",
       "    .dataframe thead th {\n",
       "        text-align: right;\n",
       "    }\n",
       "</style>\n",
       "<table border=\"1\" class=\"dataframe\">\n",
       "  <thead>\n",
       "    <tr style=\"text-align: right;\">\n",
       "      <th></th>\n",
       "      <th>id</th>\n",
       "      <th>user_id</th>\n",
       "      <th>call_date</th>\n",
       "      <th>duration</th>\n",
       "      <th>month</th>\n",
       "    </tr>\n",
       "  </thead>\n",
       "  <tbody>\n",
       "    <tr>\n",
       "      <td>0</td>\n",
       "      <td>1000_93</td>\n",
       "      <td>1000</td>\n",
       "      <td>2018-12-27</td>\n",
       "      <td>8.52</td>\n",
       "      <td>12</td>\n",
       "    </tr>\n",
       "    <tr>\n",
       "      <td>1</td>\n",
       "      <td>1000_145</td>\n",
       "      <td>1000</td>\n",
       "      <td>2018-12-27</td>\n",
       "      <td>13.66</td>\n",
       "      <td>12</td>\n",
       "    </tr>\n",
       "    <tr>\n",
       "      <td>2</td>\n",
       "      <td>1000_247</td>\n",
       "      <td>1000</td>\n",
       "      <td>2018-12-27</td>\n",
       "      <td>14.48</td>\n",
       "      <td>12</td>\n",
       "    </tr>\n",
       "    <tr>\n",
       "      <td>3</td>\n",
       "      <td>1000_309</td>\n",
       "      <td>1000</td>\n",
       "      <td>2018-12-28</td>\n",
       "      <td>5.76</td>\n",
       "      <td>12</td>\n",
       "    </tr>\n",
       "    <tr>\n",
       "      <td>4</td>\n",
       "      <td>1000_380</td>\n",
       "      <td>1000</td>\n",
       "      <td>2018-12-30</td>\n",
       "      <td>4.22</td>\n",
       "      <td>12</td>\n",
       "    </tr>\n",
       "  </tbody>\n",
       "</table>\n",
       "</div>"
      ],
      "text/plain": [
       "         id  user_id  call_date  duration  month\n",
       "0   1000_93     1000 2018-12-27      8.52     12\n",
       "1  1000_145     1000 2018-12-27     13.66     12\n",
       "2  1000_247     1000 2018-12-27     14.48     12\n",
       "3  1000_309     1000 2018-12-28      5.76     12\n",
       "4  1000_380     1000 2018-12-30      4.22     12"
      ]
     },
     "execution_count": 11,
     "metadata": {},
     "output_type": "execute_result"
    }
   ],
   "source": [
    "#extracting calls month for grouping\n",
    "data_calls['call_date'] = pd.to_datetime(data_calls['call_date'], format='%Y-%m-%d')\n",
    "data_calls['month'] = data_calls.call_date.dt.month\n",
    "data_calls.head() "
   ]
  },
  {
   "cell_type": "code",
   "execution_count": 12,
   "metadata": {},
   "outputs": [
    {
     "data": {
      "text/plain": [
       "count    137735.000000\n",
       "mean          7.146673\n",
       "std           5.953919\n",
       "min           0.000000\n",
       "25%           2.000000\n",
       "50%           6.000000\n",
       "75%          11.000000\n",
       "max          38.000000\n",
       "Name: duration, dtype: float64"
      ]
     },
     "execution_count": 12,
     "metadata": {},
     "output_type": "execute_result"
    }
   ],
   "source": [
    "#rounding up calls duration\n",
    "data_calls['duration'] = np.ceil(data_calls['duration'])\n",
    "#checking calls duration distribution\n",
    "data_calls['duration'].describe()"
   ]
  },
  {
   "cell_type": "code",
   "execution_count": 10,
   "metadata": {},
   "outputs": [
    {
     "data": {
      "text/html": [
       "<div>\n",
       "<style scoped>\n",
       "    .dataframe tbody tr th:only-of-type {\n",
       "        vertical-align: middle;\n",
       "    }\n",
       "\n",
       "    .dataframe tbody tr th {\n",
       "        vertical-align: top;\n",
       "    }\n",
       "\n",
       "    .dataframe thead th {\n",
       "        text-align: right;\n",
       "    }\n",
       "</style>\n",
       "<table border=\"1\" class=\"dataframe\">\n",
       "  <thead>\n",
       "    <tr style=\"text-align: right;\">\n",
       "      <th></th>\n",
       "      <th>id</th>\n",
       "      <th>user_id</th>\n",
       "      <th>message_date</th>\n",
       "      <th>month</th>\n",
       "    </tr>\n",
       "  </thead>\n",
       "  <tbody>\n",
       "    <tr>\n",
       "      <td>0</td>\n",
       "      <td>1000_125</td>\n",
       "      <td>1000</td>\n",
       "      <td>2018-12-27</td>\n",
       "      <td>12</td>\n",
       "    </tr>\n",
       "    <tr>\n",
       "      <td>1</td>\n",
       "      <td>1000_160</td>\n",
       "      <td>1000</td>\n",
       "      <td>2018-12-31</td>\n",
       "      <td>12</td>\n",
       "    </tr>\n",
       "    <tr>\n",
       "      <td>2</td>\n",
       "      <td>1000_223</td>\n",
       "      <td>1000</td>\n",
       "      <td>2018-12-31</td>\n",
       "      <td>12</td>\n",
       "    </tr>\n",
       "    <tr>\n",
       "      <td>3</td>\n",
       "      <td>1000_251</td>\n",
       "      <td>1000</td>\n",
       "      <td>2018-12-27</td>\n",
       "      <td>12</td>\n",
       "    </tr>\n",
       "    <tr>\n",
       "      <td>4</td>\n",
       "      <td>1000_255</td>\n",
       "      <td>1000</td>\n",
       "      <td>2018-12-26</td>\n",
       "      <td>12</td>\n",
       "    </tr>\n",
       "  </tbody>\n",
       "</table>\n",
       "</div>"
      ],
      "text/plain": [
       "         id  user_id message_date  month\n",
       "0  1000_125     1000   2018-12-27     12\n",
       "1  1000_160     1000   2018-12-31     12\n",
       "2  1000_223     1000   2018-12-31     12\n",
       "3  1000_251     1000   2018-12-27     12\n",
       "4  1000_255     1000   2018-12-26     12"
      ]
     },
     "execution_count": 10,
     "metadata": {},
     "output_type": "execute_result"
    }
   ],
   "source": [
    "#extracting messages month for grouping\n",
    "data_messages['message_date'] = pd.to_datetime(data_messages['message_date'], format='%Y-%m-%d')\n",
    "data_messages['month'] = data_messages.message_date.dt.month\n",
    "data_messages.head()"
   ]
  },
  {
   "cell_type": "code",
   "execution_count": 9,
   "metadata": {},
   "outputs": [
    {
     "data": {
      "text/html": [
       "<div>\n",
       "<style scoped>\n",
       "    .dataframe tbody tr th:only-of-type {\n",
       "        vertical-align: middle;\n",
       "    }\n",
       "\n",
       "    .dataframe tbody tr th {\n",
       "        vertical-align: top;\n",
       "    }\n",
       "\n",
       "    .dataframe thead th {\n",
       "        text-align: right;\n",
       "    }\n",
       "</style>\n",
       "<table border=\"1\" class=\"dataframe\">\n",
       "  <thead>\n",
       "    <tr style=\"text-align: right;\">\n",
       "      <th></th>\n",
       "      <th>id</th>\n",
       "      <th>user_id</th>\n",
       "      <th>session_date</th>\n",
       "      <th>mb_used</th>\n",
       "      <th>month</th>\n",
       "    </tr>\n",
       "  </thead>\n",
       "  <tbody>\n",
       "    <tr>\n",
       "      <td>0</td>\n",
       "      <td>1000_13</td>\n",
       "      <td>1000</td>\n",
       "      <td>2018-12-29</td>\n",
       "      <td>89.86</td>\n",
       "      <td>12</td>\n",
       "    </tr>\n",
       "    <tr>\n",
       "      <td>1</td>\n",
       "      <td>1000_204</td>\n",
       "      <td>1000</td>\n",
       "      <td>2018-12-31</td>\n",
       "      <td>0.00</td>\n",
       "      <td>12</td>\n",
       "    </tr>\n",
       "    <tr>\n",
       "      <td>2</td>\n",
       "      <td>1000_379</td>\n",
       "      <td>1000</td>\n",
       "      <td>2018-12-28</td>\n",
       "      <td>660.40</td>\n",
       "      <td>12</td>\n",
       "    </tr>\n",
       "    <tr>\n",
       "      <td>3</td>\n",
       "      <td>1000_413</td>\n",
       "      <td>1000</td>\n",
       "      <td>2018-12-26</td>\n",
       "      <td>270.99</td>\n",
       "      <td>12</td>\n",
       "    </tr>\n",
       "    <tr>\n",
       "      <td>4</td>\n",
       "      <td>1000_442</td>\n",
       "      <td>1000</td>\n",
       "      <td>2018-12-27</td>\n",
       "      <td>880.22</td>\n",
       "      <td>12</td>\n",
       "    </tr>\n",
       "  </tbody>\n",
       "</table>\n",
       "</div>"
      ],
      "text/plain": [
       "         id  user_id session_date  mb_used  month\n",
       "0   1000_13     1000   2018-12-29    89.86     12\n",
       "1  1000_204     1000   2018-12-31     0.00     12\n",
       "2  1000_379     1000   2018-12-28   660.40     12\n",
       "3  1000_413     1000   2018-12-26   270.99     12\n",
       "4  1000_442     1000   2018-12-27   880.22     12"
      ]
     },
     "execution_count": 9,
     "metadata": {},
     "output_type": "execute_result"
    }
   ],
   "source": [
    "#extracting internet session month for grouping\n",
    "data_internet['session_date'] = pd.to_datetime(data_internet['session_date'], format='%Y-%m-%d')\n",
    "data_internet['month'] = data_internet.session_date.dt.month\n",
    "data_internet.head() "
   ]
  },
  {
   "cell_type": "code",
   "execution_count": 17,
   "metadata": {},
   "outputs": [
    {
     "data": {
      "text/plain": [
       "count    104825.000000\n",
       "mean        367.142876\n",
       "std         277.256974\n",
       "min           0.000000\n",
       "25%         137.000000\n",
       "50%         344.000000\n",
       "75%         555.000000\n",
       "max        1694.000000\n",
       "Name: mb_used, dtype: float64"
      ]
     },
     "execution_count": 17,
     "metadata": {},
     "output_type": "execute_result"
    }
   ],
   "source": [
    "#rounding up internet session sizes\n",
    "data_internet['mb_used'] = data_internet['mb_used'].apply(np.ceil)\n",
    "#checking internet session size distribution\n",
    "data_internet['mb_used'].describe()"
   ]
  },
  {
   "cell_type": "markdown",
   "metadata": {},
   "source": [
    "We change data type for all columns with dates in all tables. Since we're looking for monthly profit, we will make new columns with month (year is not relevant, according to description, all the data is from 2018).\n",
    "\n",
    "We rounded every call duration up to one minute (getting rid of seconds), and we rounded every internet session up to 1 mb.\n",
    "\n",
    "Next we will group every dataframe according to user id and month."
   ]
  },
  {
   "cell_type": "markdown",
   "metadata": {},
   "source": [
    "<a id=\"part2_2\"></a>\n",
    "#### For each user find monthly usage of services"
   ]
  },
  {
   "cell_type": "code",
   "execution_count": 16,
   "metadata": {},
   "outputs": [
    {
     "data": {
      "text/html": [
       "<div>\n",
       "<style scoped>\n",
       "    .dataframe tbody tr th:only-of-type {\n",
       "        vertical-align: middle;\n",
       "    }\n",
       "\n",
       "    .dataframe tbody tr th {\n",
       "        vertical-align: top;\n",
       "    }\n",
       "\n",
       "    .dataframe thead th {\n",
       "        text-align: right;\n",
       "    }\n",
       "</style>\n",
       "<table border=\"1\" class=\"dataframe\">\n",
       "  <thead>\n",
       "    <tr style=\"text-align: right;\">\n",
       "      <th></th>\n",
       "      <th>user_id</th>\n",
       "      <th>month</th>\n",
       "      <th>calls</th>\n",
       "      <th>duration</th>\n",
       "    </tr>\n",
       "  </thead>\n",
       "  <tbody>\n",
       "    <tr>\n",
       "      <td>2006</td>\n",
       "      <td>1439</td>\n",
       "      <td>8</td>\n",
       "      <td>53</td>\n",
       "      <td>327.51</td>\n",
       "    </tr>\n",
       "    <tr>\n",
       "      <td>1999</td>\n",
       "      <td>1438</td>\n",
       "      <td>9</td>\n",
       "      <td>13</td>\n",
       "      <td>68.10</td>\n",
       "    </tr>\n",
       "    <tr>\n",
       "      <td>1114</td>\n",
       "      <td>1244</td>\n",
       "      <td>11</td>\n",
       "      <td>17</td>\n",
       "      <td>143.78</td>\n",
       "    </tr>\n",
       "    <tr>\n",
       "      <td>71</td>\n",
       "      <td>1019</td>\n",
       "      <td>12</td>\n",
       "      <td>59</td>\n",
       "      <td>441.98</td>\n",
       "    </tr>\n",
       "    <tr>\n",
       "      <td>929</td>\n",
       "      <td>1198</td>\n",
       "      <td>11</td>\n",
       "      <td>54</td>\n",
       "      <td>425.61</td>\n",
       "    </tr>\n",
       "  </tbody>\n",
       "</table>\n",
       "</div>"
      ],
      "text/plain": [
       "      user_id  month  calls  duration\n",
       "2006     1439      8     53    327.51\n",
       "1999     1438      9     13     68.10\n",
       "1114     1244     11     17    143.78\n",
       "71       1019     12     59    441.98\n",
       "929      1198     11     54    425.61"
      ]
     },
     "execution_count": 16,
     "metadata": {},
     "output_type": "execute_result"
    }
   ],
   "source": [
    "#aggregating monthly calls for each user\n",
    "calls_monthly = data_calls.pivot_table(index=['user_id', 'month'], values='duration', aggfunc=['count', 'sum']).reset_index()\n",
    "calls_monthly.columns = ['user_id', 'month', 'calls', 'duration']\n",
    "\n",
    "calls_monthly.sample(5)"
   ]
  },
  {
   "cell_type": "code",
   "execution_count": 17,
   "metadata": {},
   "outputs": [
    {
     "data": {
      "text/html": [
       "<div>\n",
       "<style scoped>\n",
       "    .dataframe tbody tr th:only-of-type {\n",
       "        vertical-align: middle;\n",
       "    }\n",
       "\n",
       "    .dataframe tbody tr th {\n",
       "        vertical-align: top;\n",
       "    }\n",
       "\n",
       "    .dataframe thead th {\n",
       "        text-align: right;\n",
       "    }\n",
       "</style>\n",
       "<table border=\"1\" class=\"dataframe\">\n",
       "  <thead>\n",
       "    <tr style=\"text-align: right;\">\n",
       "      <th></th>\n",
       "      <th>user_id</th>\n",
       "      <th>month</th>\n",
       "      <th>messages</th>\n",
       "    </tr>\n",
       "  </thead>\n",
       "  <tbody>\n",
       "    <tr>\n",
       "      <td>1658</td>\n",
       "      <td>1455</td>\n",
       "      <td>11</td>\n",
       "      <td>68</td>\n",
       "    </tr>\n",
       "    <tr>\n",
       "      <td>128</td>\n",
       "      <td>1045</td>\n",
       "      <td>11</td>\n",
       "      <td>49</td>\n",
       "    </tr>\n",
       "    <tr>\n",
       "      <td>1008</td>\n",
       "      <td>1263</td>\n",
       "      <td>5</td>\n",
       "      <td>5</td>\n",
       "    </tr>\n",
       "    <tr>\n",
       "      <td>1235</td>\n",
       "      <td>1334</td>\n",
       "      <td>9</td>\n",
       "      <td>15</td>\n",
       "    </tr>\n",
       "    <tr>\n",
       "      <td>839</td>\n",
       "      <td>1223</td>\n",
       "      <td>9</td>\n",
       "      <td>27</td>\n",
       "    </tr>\n",
       "  </tbody>\n",
       "</table>\n",
       "</div>"
      ],
      "text/plain": [
       "      user_id  month  messages\n",
       "1658     1455     11        68\n",
       "128      1045     11        49\n",
       "1008     1263      5         5\n",
       "1235     1334      9        15\n",
       "839      1223      9        27"
      ]
     },
     "execution_count": 17,
     "metadata": {},
     "output_type": "execute_result"
    }
   ],
   "source": [
    "#aggregating monthly messages for each user\n",
    "messages_monthly = data_messages.pivot_table(index=['user_id', 'month'], values='id', aggfunc='count').reset_index()\n",
    "messages_monthly.columns = ['user_id', 'month', 'messages']\n",
    "messages_monthly.sample(5)"
   ]
  },
  {
   "cell_type": "code",
   "execution_count": 18,
   "metadata": {},
   "outputs": [
    {
     "data": {
      "text/html": [
       "<div>\n",
       "<style scoped>\n",
       "    .dataframe tbody tr th:only-of-type {\n",
       "        vertical-align: middle;\n",
       "    }\n",
       "\n",
       "    .dataframe tbody tr th {\n",
       "        vertical-align: top;\n",
       "    }\n",
       "\n",
       "    .dataframe thead th {\n",
       "        text-align: right;\n",
       "    }\n",
       "</style>\n",
       "<table border=\"1\" class=\"dataframe\">\n",
       "  <thead>\n",
       "    <tr style=\"text-align: right;\">\n",
       "      <th></th>\n",
       "      <th>user_id</th>\n",
       "      <th>month</th>\n",
       "      <th>mb_used</th>\n",
       "    </tr>\n",
       "  </thead>\n",
       "  <tbody>\n",
       "    <tr>\n",
       "      <td>1268</td>\n",
       "      <td>1267</td>\n",
       "      <td>11</td>\n",
       "      <td>1468.13</td>\n",
       "    </tr>\n",
       "    <tr>\n",
       "      <td>15</td>\n",
       "      <td>1004</td>\n",
       "      <td>10</td>\n",
       "      <td>14541.63</td>\n",
       "    </tr>\n",
       "    <tr>\n",
       "      <td>1453</td>\n",
       "      <td>1317</td>\n",
       "      <td>12</td>\n",
       "      <td>16207.01</td>\n",
       "    </tr>\n",
       "    <tr>\n",
       "      <td>960</td>\n",
       "      <td>1199</td>\n",
       "      <td>12</td>\n",
       "      <td>12496.09</td>\n",
       "    </tr>\n",
       "    <tr>\n",
       "      <td>574</td>\n",
       "      <td>1122</td>\n",
       "      <td>9</td>\n",
       "      <td>22436.68</td>\n",
       "    </tr>\n",
       "  </tbody>\n",
       "</table>\n",
       "</div>"
      ],
      "text/plain": [
       "      user_id  month   mb_used\n",
       "1268     1267     11   1468.13\n",
       "15       1004     10  14541.63\n",
       "1453     1317     12  16207.01\n",
       "960      1199     12  12496.09\n",
       "574      1122      9  22436.68"
      ]
     },
     "execution_count": 18,
     "metadata": {},
     "output_type": "execute_result"
    }
   ],
   "source": [
    "##aggregating monthly internet sessions for each user\n",
    "internet_monthly = data_internet.pivot_table(index=['user_id', 'month'], values='mb_used', aggfunc='sum').reset_index()\n",
    "internet_monthly.sample(5)"
   ]
  },
  {
   "cell_type": "markdown",
   "metadata": {},
   "source": [
    "We got tables grouped for each user and each month. We merge it together in one table with monthly usage of services for each user. Firstly we merge tables with services usage, then we add some information from data_users dataframe. I'm sure there's a way to add only specified columns, would love to know the solution.\n",
    "\n",
    "There are missing values, since not every user uses all of the services every month, so we will replace NaN with 0, and it won't affect our calculations."
   ]
  },
  {
   "cell_type": "code",
   "execution_count": 21,
   "metadata": {},
   "outputs": [
    {
     "data": {
      "text/html": [
       "<div>\n",
       "<style scoped>\n",
       "    .dataframe tbody tr th:only-of-type {\n",
       "        vertical-align: middle;\n",
       "    }\n",
       "\n",
       "    .dataframe tbody tr th {\n",
       "        vertical-align: top;\n",
       "    }\n",
       "\n",
       "    .dataframe thead th {\n",
       "        text-align: right;\n",
       "    }\n",
       "</style>\n",
       "<table border=\"1\" class=\"dataframe\">\n",
       "  <thead>\n",
       "    <tr style=\"text-align: right;\">\n",
       "      <th></th>\n",
       "      <th>user_id</th>\n",
       "      <th>month</th>\n",
       "      <th>calls</th>\n",
       "      <th>duration</th>\n",
       "      <th>messages</th>\n",
       "      <th>mb_used</th>\n",
       "      <th>city</th>\n",
       "      <th>plan</th>\n",
       "      <th>churn_month</th>\n",
       "    </tr>\n",
       "  </thead>\n",
       "  <tbody>\n",
       "    <tr>\n",
       "      <td>1314</td>\n",
       "      <td>1288</td>\n",
       "      <td>11</td>\n",
       "      <td>45.0</td>\n",
       "      <td>273.11</td>\n",
       "      <td>0.0</td>\n",
       "      <td>11979.03</td>\n",
       "      <td>Las Vegas-Henderson-Paradise, NV MSA</td>\n",
       "      <td>surf</td>\n",
       "      <td>0.0</td>\n",
       "    </tr>\n",
       "    <tr>\n",
       "      <td>300</td>\n",
       "      <td>1066</td>\n",
       "      <td>4</td>\n",
       "      <td>57.0</td>\n",
       "      <td>438.04</td>\n",
       "      <td>32.0</td>\n",
       "      <td>22187.52</td>\n",
       "      <td>Boston-Cambridge-Newton, MA-NH MSA</td>\n",
       "      <td>surf</td>\n",
       "      <td>0.0</td>\n",
       "    </tr>\n",
       "    <tr>\n",
       "      <td>9</td>\n",
       "      <td>1003</td>\n",
       "      <td>12</td>\n",
       "      <td>149.0</td>\n",
       "      <td>1041.00</td>\n",
       "      <td>50.0</td>\n",
       "      <td>27044.14</td>\n",
       "      <td>Tulsa, OK MSA</td>\n",
       "      <td>surf</td>\n",
       "      <td>0.0</td>\n",
       "    </tr>\n",
       "    <tr>\n",
       "      <td>966</td>\n",
       "      <td>1206</td>\n",
       "      <td>12</td>\n",
       "      <td>47.0</td>\n",
       "      <td>334.28</td>\n",
       "      <td>33.0</td>\n",
       "      <td>27945.75</td>\n",
       "      <td>Providence-Warwick, RI-MA MSA</td>\n",
       "      <td>surf</td>\n",
       "      <td>0.0</td>\n",
       "    </tr>\n",
       "    <tr>\n",
       "      <td>464</td>\n",
       "      <td>1099</td>\n",
       "      <td>10</td>\n",
       "      <td>72.0</td>\n",
       "      <td>486.99</td>\n",
       "      <td>24.0</td>\n",
       "      <td>20462.74</td>\n",
       "      <td>New York-Newark-Jersey City, NY-NJ-PA MSA</td>\n",
       "      <td>surf</td>\n",
       "      <td>0.0</td>\n",
       "    </tr>\n",
       "    <tr>\n",
       "      <td>664</td>\n",
       "      <td>1144</td>\n",
       "      <td>8</td>\n",
       "      <td>70.0</td>\n",
       "      <td>540.45</td>\n",
       "      <td>86.0</td>\n",
       "      <td>36704.71</td>\n",
       "      <td>New York-Newark-Jersey City, NY-NJ-PA MSA</td>\n",
       "      <td>ultimate</td>\n",
       "      <td>0.0</td>\n",
       "    </tr>\n",
       "    <tr>\n",
       "      <td>2070</td>\n",
       "      <td>1456</td>\n",
       "      <td>6</td>\n",
       "      <td>65.0</td>\n",
       "      <td>383.42</td>\n",
       "      <td>33.0</td>\n",
       "      <td>12266.66</td>\n",
       "      <td>Minneapolis-St. Paul-Bloomington, MN-WI MSA</td>\n",
       "      <td>ultimate</td>\n",
       "      <td>0.0</td>\n",
       "    </tr>\n",
       "    <tr>\n",
       "      <td>1799</td>\n",
       "      <td>1393</td>\n",
       "      <td>12</td>\n",
       "      <td>126.0</td>\n",
       "      <td>843.13</td>\n",
       "      <td>32.0</td>\n",
       "      <td>14164.82</td>\n",
       "      <td>Knoxville, TN MSA</td>\n",
       "      <td>surf</td>\n",
       "      <td>0.0</td>\n",
       "    </tr>\n",
       "    <tr>\n",
       "      <td>127</td>\n",
       "      <td>1036</td>\n",
       "      <td>6</td>\n",
       "      <td>19.0</td>\n",
       "      <td>152.25</td>\n",
       "      <td>19.0</td>\n",
       "      <td>1449.37</td>\n",
       "      <td>Denver-Aurora-Lakewood, CO MSA</td>\n",
       "      <td>ultimate</td>\n",
       "      <td>0.0</td>\n",
       "    </tr>\n",
       "    <tr>\n",
       "      <td>1956</td>\n",
       "      <td>1425</td>\n",
       "      <td>12</td>\n",
       "      <td>39.0</td>\n",
       "      <td>233.30</td>\n",
       "      <td>28.0</td>\n",
       "      <td>18001.22</td>\n",
       "      <td>Las Vegas-Henderson-Paradise, NV MSA</td>\n",
       "      <td>surf</td>\n",
       "      <td>0.0</td>\n",
       "    </tr>\n",
       "  </tbody>\n",
       "</table>\n",
       "</div>"
      ],
      "text/plain": [
       "      user_id  month  calls  duration  messages   mb_used  \\\n",
       "1314     1288     11   45.0    273.11       0.0  11979.03   \n",
       "300      1066      4   57.0    438.04      32.0  22187.52   \n",
       "9        1003     12  149.0   1041.00      50.0  27044.14   \n",
       "966      1206     12   47.0    334.28      33.0  27945.75   \n",
       "464      1099     10   72.0    486.99      24.0  20462.74   \n",
       "664      1144      8   70.0    540.45      86.0  36704.71   \n",
       "2070     1456      6   65.0    383.42      33.0  12266.66   \n",
       "1799     1393     12  126.0    843.13      32.0  14164.82   \n",
       "127      1036      6   19.0    152.25      19.0   1449.37   \n",
       "1956     1425     12   39.0    233.30      28.0  18001.22   \n",
       "\n",
       "                                             city      plan  churn_month  \n",
       "1314         Las Vegas-Henderson-Paradise, NV MSA      surf          0.0  \n",
       "300            Boston-Cambridge-Newton, MA-NH MSA      surf          0.0  \n",
       "9                                   Tulsa, OK MSA      surf          0.0  \n",
       "966                 Providence-Warwick, RI-MA MSA      surf          0.0  \n",
       "464     New York-Newark-Jersey City, NY-NJ-PA MSA      surf          0.0  \n",
       "664     New York-Newark-Jersey City, NY-NJ-PA MSA  ultimate          0.0  \n",
       "2070  Minneapolis-St. Paul-Bloomington, MN-WI MSA  ultimate          0.0  \n",
       "1799                            Knoxville, TN MSA      surf          0.0  \n",
       "127                Denver-Aurora-Lakewood, CO MSA  ultimate          0.0  \n",
       "1956         Las Vegas-Henderson-Paradise, NV MSA      surf          0.0  "
      ]
     },
     "execution_count": 21,
     "metadata": {},
     "output_type": "execute_result"
    }
   ],
   "source": [
    "#merging dataframes together\n",
    "dfs = [calls_monthly, messages_monthly, internet_monthly]\n",
    "data_monthly = reduce(lambda left,right: pd.merge(left,right,on=['user_id', 'month'],\n",
    "                                                 how='outer'), dfs)\n",
    "data_monthly = data_monthly.merge(data_users, on='user_id')\n",
    "data_monthly = data_monthly.drop(['first_name', 'last_name', 'age', 'reg_date', 'churn_date'], axis=1)\n",
    "data_monthly = data_monthly.fillna(value=0) #Here it's really zero, no registered usage of service at all\n",
    "\n",
    "data_monthly.sample(10)"
   ]
  },
  {
   "cell_type": "code",
   "execution_count": 24,
   "metadata": {},
   "outputs": [
    {
     "data": {
      "text/html": [
       "<div>\n",
       "<style scoped>\n",
       "    .dataframe tbody tr th:only-of-type {\n",
       "        vertical-align: middle;\n",
       "    }\n",
       "\n",
       "    .dataframe tbody tr th {\n",
       "        vertical-align: top;\n",
       "    }\n",
       "\n",
       "    .dataframe thead th {\n",
       "        text-align: right;\n",
       "    }\n",
       "</style>\n",
       "<table border=\"1\" class=\"dataframe\">\n",
       "  <thead>\n",
       "    <tr style=\"text-align: right;\">\n",
       "      <th></th>\n",
       "      <th>user_id</th>\n",
       "      <th>month</th>\n",
       "      <th>calls</th>\n",
       "      <th>duration</th>\n",
       "      <th>messages</th>\n",
       "      <th>mb_used</th>\n",
       "      <th>city</th>\n",
       "      <th>plan</th>\n",
       "      <th>churn_month</th>\n",
       "    </tr>\n",
       "  </thead>\n",
       "  <tbody>\n",
       "    <tr>\n",
       "      <td>19</td>\n",
       "      <td>1006</td>\n",
       "      <td>11</td>\n",
       "      <td>2.0</td>\n",
       "      <td>9.32</td>\n",
       "      <td>15.0</td>\n",
       "      <td>2068.37</td>\n",
       "      <td>San Francisco-Oakland-Berkeley, CA MSA</td>\n",
       "      <td>ultimate</td>\n",
       "      <td>12.0</td>\n",
       "    </tr>\n",
       "    <tr>\n",
       "      <td>20</td>\n",
       "      <td>1006</td>\n",
       "      <td>12</td>\n",
       "      <td>9.0</td>\n",
       "      <td>54.79</td>\n",
       "      <td>139.0</td>\n",
       "      <td>32118.82</td>\n",
       "      <td>San Francisco-Oakland-Berkeley, CA MSA</td>\n",
       "      <td>ultimate</td>\n",
       "      <td>12.0</td>\n",
       "    </tr>\n",
       "    <tr>\n",
       "      <td>53</td>\n",
       "      <td>1012</td>\n",
       "      <td>11</td>\n",
       "      <td>10.0</td>\n",
       "      <td>71.42</td>\n",
       "      <td>0.0</td>\n",
       "      <td>13935.03</td>\n",
       "      <td>Chicago-Naperville-Elgin, IL-IN-WI MSA</td>\n",
       "      <td>surf</td>\n",
       "      <td>11.0</td>\n",
       "    </tr>\n",
       "    <tr>\n",
       "      <td>75</td>\n",
       "      <td>1022</td>\n",
       "      <td>5</td>\n",
       "      <td>39.0</td>\n",
       "      <td>287.34</td>\n",
       "      <td>0.0</td>\n",
       "      <td>4908.08</td>\n",
       "      <td>New York-Newark-Jersey City, NY-NJ-PA MSA</td>\n",
       "      <td>surf</td>\n",
       "      <td>9.0</td>\n",
       "    </tr>\n",
       "    <tr>\n",
       "      <td>76</td>\n",
       "      <td>1022</td>\n",
       "      <td>6</td>\n",
       "      <td>76.0</td>\n",
       "      <td>455.45</td>\n",
       "      <td>0.0</td>\n",
       "      <td>23436.48</td>\n",
       "      <td>New York-Newark-Jersey City, NY-NJ-PA MSA</td>\n",
       "      <td>surf</td>\n",
       "      <td>9.0</td>\n",
       "    </tr>\n",
       "    <tr>\n",
       "      <td>...</td>\n",
       "      <td>...</td>\n",
       "      <td>...</td>\n",
       "      <td>...</td>\n",
       "      <td>...</td>\n",
       "      <td>...</td>\n",
       "      <td>...</td>\n",
       "      <td>...</td>\n",
       "      <td>...</td>\n",
       "      <td>...</td>\n",
       "    </tr>\n",
       "    <tr>\n",
       "      <td>2215</td>\n",
       "      <td>1491</td>\n",
       "      <td>5</td>\n",
       "      <td>48.0</td>\n",
       "      <td>409.06</td>\n",
       "      <td>45.0</td>\n",
       "      <td>6464.49</td>\n",
       "      <td>Grand Rapids-Kentwood, MI MSA</td>\n",
       "      <td>surf</td>\n",
       "      <td>9.0</td>\n",
       "    </tr>\n",
       "    <tr>\n",
       "      <td>2216</td>\n",
       "      <td>1491</td>\n",
       "      <td>6</td>\n",
       "      <td>64.0</td>\n",
       "      <td>373.47</td>\n",
       "      <td>54.0</td>\n",
       "      <td>11034.31</td>\n",
       "      <td>Grand Rapids-Kentwood, MI MSA</td>\n",
       "      <td>surf</td>\n",
       "      <td>9.0</td>\n",
       "    </tr>\n",
       "    <tr>\n",
       "      <td>2217</td>\n",
       "      <td>1491</td>\n",
       "      <td>7</td>\n",
       "      <td>60.0</td>\n",
       "      <td>437.33</td>\n",
       "      <td>64.0</td>\n",
       "      <td>7833.29</td>\n",
       "      <td>Grand Rapids-Kentwood, MI MSA</td>\n",
       "      <td>surf</td>\n",
       "      <td>9.0</td>\n",
       "    </tr>\n",
       "    <tr>\n",
       "      <td>2218</td>\n",
       "      <td>1491</td>\n",
       "      <td>8</td>\n",
       "      <td>54.0</td>\n",
       "      <td>362.10</td>\n",
       "      <td>50.0</td>\n",
       "      <td>10245.84</td>\n",
       "      <td>Grand Rapids-Kentwood, MI MSA</td>\n",
       "      <td>surf</td>\n",
       "      <td>9.0</td>\n",
       "    </tr>\n",
       "    <tr>\n",
       "      <td>2219</td>\n",
       "      <td>1491</td>\n",
       "      <td>9</td>\n",
       "      <td>52.0</td>\n",
       "      <td>395.26</td>\n",
       "      <td>50.0</td>\n",
       "      <td>7040.50</td>\n",
       "      <td>Grand Rapids-Kentwood, MI MSA</td>\n",
       "      <td>surf</td>\n",
       "      <td>9.0</td>\n",
       "    </tr>\n",
       "  </tbody>\n",
       "</table>\n",
       "<p>121 rows × 9 columns</p>\n",
       "</div>"
      ],
      "text/plain": [
       "      user_id  month  calls  duration  messages   mb_used  \\\n",
       "19       1006     11    2.0      9.32      15.0   2068.37   \n",
       "20       1006     12    9.0     54.79     139.0  32118.82   \n",
       "53       1012     11   10.0     71.42       0.0  13935.03   \n",
       "75       1022      5   39.0    287.34       0.0   4908.08   \n",
       "76       1022      6   76.0    455.45       0.0  23436.48   \n",
       "...       ...    ...    ...       ...       ...       ...   \n",
       "2215     1491      5   48.0    409.06      45.0   6464.49   \n",
       "2216     1491      6   64.0    373.47      54.0  11034.31   \n",
       "2217     1491      7   60.0    437.33      64.0   7833.29   \n",
       "2218     1491      8   54.0    362.10      50.0  10245.84   \n",
       "2219     1491      9   52.0    395.26      50.0   7040.50   \n",
       "\n",
       "                                           city      plan  churn_month  \n",
       "19       San Francisco-Oakland-Berkeley, CA MSA  ultimate         12.0  \n",
       "20       San Francisco-Oakland-Berkeley, CA MSA  ultimate         12.0  \n",
       "53       Chicago-Naperville-Elgin, IL-IN-WI MSA      surf         11.0  \n",
       "75    New York-Newark-Jersey City, NY-NJ-PA MSA      surf          9.0  \n",
       "76    New York-Newark-Jersey City, NY-NJ-PA MSA      surf          9.0  \n",
       "...                                         ...       ...          ...  \n",
       "2215              Grand Rapids-Kentwood, MI MSA      surf          9.0  \n",
       "2216              Grand Rapids-Kentwood, MI MSA      surf          9.0  \n",
       "2217              Grand Rapids-Kentwood, MI MSA      surf          9.0  \n",
       "2218              Grand Rapids-Kentwood, MI MSA      surf          9.0  \n",
       "2219              Grand Rapids-Kentwood, MI MSA      surf          9.0  \n",
       "\n",
       "[121 rows x 9 columns]"
      ]
     },
     "execution_count": 24,
     "metadata": {},
     "output_type": "execute_result"
    }
   ],
   "source": [
    "#dropping the rows where churn month is less than month, we should not charge someone after they quit\n",
    "data_monthly = data_monthly.drop(data_monthly[(data_monthly.churn_month != 0) & (data_monthly.month > data_monthly.churn_month)].index)\n",
    "data_monthly.query('churn_month != 0')"
   ]
  },
  {
   "cell_type": "code",
   "execution_count": 25,
   "metadata": {},
   "outputs": [
    {
     "data": {
      "text/html": [
       "<div>\n",
       "<style scoped>\n",
       "    .dataframe tbody tr th:only-of-type {\n",
       "        vertical-align: middle;\n",
       "    }\n",
       "\n",
       "    .dataframe tbody tr th {\n",
       "        vertical-align: top;\n",
       "    }\n",
       "\n",
       "    .dataframe thead th {\n",
       "        text-align: right;\n",
       "    }\n",
       "</style>\n",
       "<table border=\"1\" class=\"dataframe\">\n",
       "  <thead>\n",
       "    <tr style=\"text-align: right;\">\n",
       "      <th></th>\n",
       "      <th>messages_included</th>\n",
       "      <th>mb_per_month_included</th>\n",
       "      <th>minutes_included</th>\n",
       "      <th>usd_monthly_pay</th>\n",
       "      <th>usd_per_gb</th>\n",
       "      <th>usd_per_message</th>\n",
       "      <th>usd_per_minute</th>\n",
       "      <th>plan_name</th>\n",
       "    </tr>\n",
       "  </thead>\n",
       "  <tbody>\n",
       "    <tr>\n",
       "      <td>0</td>\n",
       "      <td>50</td>\n",
       "      <td>15360</td>\n",
       "      <td>500</td>\n",
       "      <td>20</td>\n",
       "      <td>10</td>\n",
       "      <td>0.03</td>\n",
       "      <td>0.03</td>\n",
       "      <td>surf</td>\n",
       "    </tr>\n",
       "    <tr>\n",
       "      <td>1</td>\n",
       "      <td>1000</td>\n",
       "      <td>30720</td>\n",
       "      <td>3000</td>\n",
       "      <td>70</td>\n",
       "      <td>7</td>\n",
       "      <td>0.01</td>\n",
       "      <td>0.01</td>\n",
       "      <td>ultimate</td>\n",
       "    </tr>\n",
       "  </tbody>\n",
       "</table>\n",
       "</div>"
      ],
      "text/plain": [
       "   messages_included  mb_per_month_included  minutes_included  \\\n",
       "0                 50                  15360               500   \n",
       "1               1000                  30720              3000   \n",
       "\n",
       "   usd_monthly_pay  usd_per_gb  usd_per_message  usd_per_minute plan_name  \n",
       "0               20          10             0.03            0.03      surf  \n",
       "1               70           7             0.01            0.01  ultimate  "
      ]
     },
     "execution_count": 25,
     "metadata": {},
     "output_type": "execute_result"
    }
   ],
   "source": [
    "data_plans #just to have it close"
   ]
  },
  {
   "cell_type": "markdown",
   "metadata": {},
   "source": [
    "<a id=\"part2_3\"></a>\n",
    "#### Calculate monthly revenue for each user"
   ]
  },
  {
   "cell_type": "code",
   "execution_count": 33,
   "metadata": {},
   "outputs": [
    {
     "data": {
      "text/html": [
       "<div>\n",
       "<style scoped>\n",
       "    .dataframe tbody tr th:only-of-type {\n",
       "        vertical-align: middle;\n",
       "    }\n",
       "\n",
       "    .dataframe tbody tr th {\n",
       "        vertical-align: top;\n",
       "    }\n",
       "\n",
       "    .dataframe thead th {\n",
       "        text-align: right;\n",
       "    }\n",
       "</style>\n",
       "<table border=\"1\" class=\"dataframe\">\n",
       "  <thead>\n",
       "    <tr style=\"text-align: right;\">\n",
       "      <th></th>\n",
       "      <th>user_id</th>\n",
       "      <th>month</th>\n",
       "      <th>calls</th>\n",
       "      <th>duration</th>\n",
       "      <th>messages</th>\n",
       "      <th>mb_used</th>\n",
       "      <th>city</th>\n",
       "      <th>plan</th>\n",
       "      <th>churn_month</th>\n",
       "      <th>profit</th>\n",
       "    </tr>\n",
       "  </thead>\n",
       "  <tbody>\n",
       "    <tr>\n",
       "      <td>0</td>\n",
       "      <td>1000</td>\n",
       "      <td>12</td>\n",
       "      <td>16.0</td>\n",
       "      <td>116.83</td>\n",
       "      <td>11.0</td>\n",
       "      <td>1901.47</td>\n",
       "      <td>Atlanta-Sandy Springs-Roswell, GA MSA</td>\n",
       "      <td>ultimate</td>\n",
       "      <td>0.0</td>\n",
       "      <td>70.00</td>\n",
       "    </tr>\n",
       "    <tr>\n",
       "      <td>1</td>\n",
       "      <td>1001</td>\n",
       "      <td>8</td>\n",
       "      <td>27.0</td>\n",
       "      <td>171.14</td>\n",
       "      <td>30.0</td>\n",
       "      <td>6919.15</td>\n",
       "      <td>Seattle-Tacoma-Bellevue, WA MSA</td>\n",
       "      <td>surf</td>\n",
       "      <td>0.0</td>\n",
       "      <td>20.00</td>\n",
       "    </tr>\n",
       "    <tr>\n",
       "      <td>2</td>\n",
       "      <td>1001</td>\n",
       "      <td>9</td>\n",
       "      <td>49.0</td>\n",
       "      <td>297.69</td>\n",
       "      <td>44.0</td>\n",
       "      <td>13314.82</td>\n",
       "      <td>Seattle-Tacoma-Bellevue, WA MSA</td>\n",
       "      <td>surf</td>\n",
       "      <td>0.0</td>\n",
       "      <td>20.00</td>\n",
       "    </tr>\n",
       "    <tr>\n",
       "      <td>3</td>\n",
       "      <td>1001</td>\n",
       "      <td>10</td>\n",
       "      <td>65.0</td>\n",
       "      <td>374.11</td>\n",
       "      <td>53.0</td>\n",
       "      <td>22330.49</td>\n",
       "      <td>Seattle-Tacoma-Bellevue, WA MSA</td>\n",
       "      <td>surf</td>\n",
       "      <td>0.0</td>\n",
       "      <td>90.09</td>\n",
       "    </tr>\n",
       "    <tr>\n",
       "      <td>4</td>\n",
       "      <td>1001</td>\n",
       "      <td>11</td>\n",
       "      <td>64.0</td>\n",
       "      <td>404.59</td>\n",
       "      <td>36.0</td>\n",
       "      <td>18504.30</td>\n",
       "      <td>Seattle-Tacoma-Bellevue, WA MSA</td>\n",
       "      <td>surf</td>\n",
       "      <td>0.0</td>\n",
       "      <td>60.00</td>\n",
       "    </tr>\n",
       "  </tbody>\n",
       "</table>\n",
       "</div>"
      ],
      "text/plain": [
       "   user_id  month  calls  duration  messages   mb_used  \\\n",
       "0     1000     12   16.0    116.83      11.0   1901.47   \n",
       "1     1001      8   27.0    171.14      30.0   6919.15   \n",
       "2     1001      9   49.0    297.69      44.0  13314.82   \n",
       "3     1001     10   65.0    374.11      53.0  22330.49   \n",
       "4     1001     11   64.0    404.59      36.0  18504.30   \n",
       "\n",
       "                                    city      plan  churn_month  profit  \n",
       "0  Atlanta-Sandy Springs-Roswell, GA MSA  ultimate          0.0   70.00  \n",
       "1        Seattle-Tacoma-Bellevue, WA MSA      surf          0.0   20.00  \n",
       "2        Seattle-Tacoma-Bellevue, WA MSA      surf          0.0   20.00  \n",
       "3        Seattle-Tacoma-Bellevue, WA MSA      surf          0.0   90.09  \n",
       "4        Seattle-Tacoma-Bellevue, WA MSA      surf          0.0   60.00  "
      ]
     },
     "execution_count": 33,
     "metadata": {},
     "output_type": "execute_result"
    }
   ],
   "source": [
    "#i did it with function using values from external dataframe, since I didn't want to merge everything in one huge df\n",
    "def calculate_profit(row):\n",
    "    tariff = row['plan']\n",
    "    calls = row['duration']\n",
    "    messages = row['messages']\n",
    "    internet = row['mb_used']\n",
    "    if tariff == 'surf':\n",
    "        plan = data_plans.iloc[0, :]\n",
    "    else:\n",
    "        plan = data_plans.iloc[1, :]\n",
    "    charge = plan['usd_monthly_pay']   \n",
    "    \n",
    "    if calls > plan['minutes_included']:\n",
    "        charge += (calls - plan['minutes_included']) * plan['usd_per_minute']\n",
    "    if messages > plan['messages_included']:\n",
    "        charge += (messages - plan['messages_included']) * plan['usd_per_message']\n",
    "    if internet > plan['mb_per_month_included']:\n",
    "        charge += math.ceil((internet - plan['mb_per_month_included']) / 1024) * plan['usd_per_gb']\n",
    "    return charge\n",
    "    \n",
    "data_monthly['profit'] = data_monthly.apply(calculate_profit, axis=1)\n",
    "data_monthly.head(5)"
   ]
  },
  {
   "cell_type": "markdown",
   "metadata": {},
   "source": [
    "Now that we have our merged table with all the information needed (minutes, texts and volume of data the users of each plan require per month), we added profit for each user and can move on to studying customers' behavior."
   ]
  },
  {
   "cell_type": "markdown",
   "metadata": {},
   "source": [
    "### Analyze the data"
   ]
  },
  {
   "cell_type": "markdown",
   "metadata": {},
   "source": [
    "<a id=\"part3_1\"></a>\n",
    "#### Customer behavior in general"
   ]
  },
  {
   "cell_type": "code",
   "execution_count": 35,
   "metadata": {
    "scrolled": false
   },
   "outputs": [
    {
     "name": "stdout",
     "output_type": "stream",
     "text": [
      "count    2256.000000\n",
      "mean      405.160448\n",
      "std       224.023259\n",
      "min         0.000000\n",
      "25%       248.630000\n",
      "50%       400.225000\n",
      "75%       540.467500\n",
      "max      1431.220000\n",
      "Name: duration, dtype: float64\n",
      "\n",
      "The mean for calls: 405.1604476950355\n",
      "The median for calls: 400.22500000000014\n",
      "The variance for calls: 50164.174749134676\n",
      "The standard deviation for calls: 223.97360279536218\n"
     ]
    },
    {
     "data": {
      "image/png": "[encoded data removed]",
      "text/plain": [
       "<Figure size 432x288 with 1 Axes>"
      ]
     },
     "metadata": {
      "needs_background": "light"
     },
     "output_type": "display_data"
    }
   ],
   "source": [
    "#print out general info for calls duration\n",
    "print(data_monthly['duration'].describe())\n",
    "print()\n",
    "print('The mean for calls:', data_monthly['duration'].mean())\n",
    "print('The median for calls:', data_monthly['duration'].median())\n",
    "print('The variance for calls:', np.var(data_monthly['duration']))\n",
    "print('The standard deviation for calls:', np.std(data_monthly['duration']))\n",
    "data_monthly['duration'].hist(bins=100)\n",
    "plt.title(\"Monthly Cals Duration Distribution\")\n",
    "plt.xlabel(\"Calls Duration per month, min\")\n",
    "plt.show()"
   ]
  },
  {
   "cell_type": "markdown",
   "metadata": {},
   "source": [
    "As for the calls duration, we see that on average people use about 429 minutes a month. Dataset is skewed to the left and there's a significant drop after 600 minutes, which means there's more people that use less than 200 minutes, than there are people who use more than 600. Almost no one uses more than 1000 minutes per month. The biggest usage is only 1432 minutes, which means that according to this sample ultimate tariff users won't exceed their limit for calls and most of surf tariff users also."
   ]
  },
  {
   "cell_type": "code",
   "execution_count": 36,
   "metadata": {},
   "outputs": [
    {
     "name": "stdout",
     "output_type": "stream",
     "text": [
      "count    2256.000000\n",
      "mean       33.210106\n",
      "std        34.173383\n",
      "min         0.000000\n",
      "25%         3.000000\n",
      "50%        26.000000\n",
      "75%        51.000000\n",
      "max       266.000000\n",
      "Name: messages, dtype: float64\n",
      "\n",
      "The mean for messages: 33.21010638297872\n",
      "The median for messages: 26.0\n",
      "The variance for messages: 1167.302486513505\n",
      "The standard deviation for messages: 34.16580873495467\n"
     ]
    },
    {
     "data": {
      "image/png": "[encoded data removed]",
      "text/plain": [
       "<Figure size 432x288 with 1 Axes>"
      ]
     },
     "metadata": {
      "needs_background": "light"
     },
     "output_type": "display_data"
    }
   ],
   "source": [
    "#print out general info for messages\n",
    "print(data_monthly['messages'].describe())\n",
    "print()\n",
    "print('The mean for messages:', data_monthly['messages'].mean())\n",
    "print('The median for messages:', data_monthly['messages'].median())\n",
    "print('The variance for messages:', np.var(data_monthly['messages']))\n",
    "print('The standard deviation for messages:', np.std(data_monthly['messages']))\n",
    "data_monthly['messages'].hist(bins=100)\n",
    "plt.title(\"Monthly Messages Distribution\")\n",
    "plt.xlabel(\"Messages per month\")\n",
    "plt.show()"
   ]
  },
  {
   "cell_type": "markdown",
   "metadata": {},
   "source": [
    "As for messages, we see that on average people send about 30 messages per month. Almost no one sends more than 100 messages, and there are a lot of people that do not send messages at all, so we can say that this service is not very popular in the era of messengers. Ultimate tariff users are not even close to exceeding their limit according to our sample, since the max value is 266, and their tariff includes 1000. Surf users are highly likely to exceed their limit of 50 messages."
   ]
  },
  {
   "cell_type": "code",
   "execution_count": 37,
   "metadata": {},
   "outputs": [
    {
     "name": "stdout",
     "output_type": "stream",
     "text": [
      "count     2256.000000\n",
      "mean     16774.377965\n",
      "std       7972.641072\n",
      "min          0.000000\n",
      "25%      12266.220000\n",
      "50%      16832.295000\n",
      "75%      21000.855000\n",
      "max      70931.590000\n",
      "Name: mb_used, dtype: float64\n",
      "\n",
      "The mean for internet usage: 16774.37796542553\n",
      "The median for internet usage: 16832.295\n",
      "The variance for internet usage: 63534830.579733394\n",
      "The standard deviation for internet usage: 7970.873890592762\n"
     ]
    },
    {
     "data": {
      "image/png": "[encoded data removed]",
      "text/plain": [
       "<Figure size 432x288 with 1 Axes>"
      ]
     },
     "metadata": {
      "needs_background": "light"
     },
     "output_type": "display_data"
    }
   ],
   "source": [
    "#print out general info for internet usage\n",
    "print(data_monthly['mb_used'].describe())\n",
    "print()\n",
    "print('The mean for internet usage:', data_monthly['mb_used'].mean())\n",
    "print('The median for internet usage:', data_monthly['mb_used'].median())\n",
    "print('The variance for internet usage:', np.var(data_monthly['mb_used']))\n",
    "print('The standard deviation for internet usage:', np.std(data_monthly['mb_used']))\n",
    "data_monthly['mb_used'].hist(bins=100)\n",
    "plt.title(\"Monthly Internet Usage Distribution\")\n",
    "plt.xlabel(\"Internet Usage per month, mb\")\n",
    "plt.show()"
   ]
  },
  {
   "cell_type": "markdown",
   "metadata": {},
   "source": [
    "What about the internet usage? On average, users spend almost 17000 mb per month, which means that surf tariff users are very likely to exceed their limit of 15360. On histogram we see significant drop after 30000 which means that although there are people who use more, the number of these people isn't that big."
   ]
  },
  {
   "cell_type": "markdown",
   "metadata": {},
   "source": [
    "<a id=\"part3_2\"></a>\n",
    "#### Differences in customer behavior of Surf/Ultimate plan users"
   ]
  },
  {
   "cell_type": "code",
   "execution_count": 39,
   "metadata": {},
   "outputs": [
    {
     "data": {
      "text/html": [
       "<div>\n",
       "<style scoped>\n",
       "    .dataframe tbody tr th:only-of-type {\n",
       "        vertical-align: middle;\n",
       "    }\n",
       "\n",
       "    .dataframe tbody tr th {\n",
       "        vertical-align: top;\n",
       "    }\n",
       "\n",
       "    .dataframe thead th {\n",
       "        text-align: right;\n",
       "    }\n",
       "</style>\n",
       "<table border=\"1\" class=\"dataframe\">\n",
       "  <thead>\n",
       "    <tr style=\"text-align: right;\">\n",
       "      <th></th>\n",
       "      <th>user_id</th>\n",
       "      <th>month</th>\n",
       "      <th>calls</th>\n",
       "      <th>duration</th>\n",
       "      <th>messages</th>\n",
       "      <th>mb_used</th>\n",
       "      <th>city</th>\n",
       "      <th>plan</th>\n",
       "      <th>churn_month</th>\n",
       "      <th>profit</th>\n",
       "    </tr>\n",
       "  </thead>\n",
       "  <tbody>\n",
       "    <tr>\n",
       "      <td>2097</td>\n",
       "      <td>1461</td>\n",
       "      <td>12</td>\n",
       "      <td>43.0</td>\n",
       "      <td>275.16</td>\n",
       "      <td>0.0</td>\n",
       "      <td>11126.94</td>\n",
       "      <td>Pittsburgh, PA MSA</td>\n",
       "      <td>surf</td>\n",
       "      <td>0.0</td>\n",
       "      <td>20.0000</td>\n",
       "    </tr>\n",
       "    <tr>\n",
       "      <td>2151</td>\n",
       "      <td>1474</td>\n",
       "      <td>9</td>\n",
       "      <td>34.0</td>\n",
       "      <td>248.74</td>\n",
       "      <td>30.0</td>\n",
       "      <td>23424.65</td>\n",
       "      <td>Bakersfield, CA MSA</td>\n",
       "      <td>surf</td>\n",
       "      <td>0.0</td>\n",
       "      <td>100.0000</td>\n",
       "    </tr>\n",
       "    <tr>\n",
       "      <td>2207</td>\n",
       "      <td>1489</td>\n",
       "      <td>12</td>\n",
       "      <td>55.0</td>\n",
       "      <td>370.59</td>\n",
       "      <td>86.0</td>\n",
       "      <td>15321.07</td>\n",
       "      <td>Detroit-Warren-Dearborn, MI MSA</td>\n",
       "      <td>surf</td>\n",
       "      <td>0.0</td>\n",
       "      <td>21.0800</td>\n",
       "    </tr>\n",
       "    <tr>\n",
       "      <td>827</td>\n",
       "      <td>1176</td>\n",
       "      <td>11</td>\n",
       "      <td>73.0</td>\n",
       "      <td>516.76</td>\n",
       "      <td>64.0</td>\n",
       "      <td>28528.76</td>\n",
       "      <td>New York-Newark-Jersey City, NY-NJ-PA MSA</td>\n",
       "      <td>surf</td>\n",
       "      <td>0.0</td>\n",
       "      <td>150.9228</td>\n",
       "    </tr>\n",
       "    <tr>\n",
       "      <td>1198</td>\n",
       "      <td>1258</td>\n",
       "      <td>12</td>\n",
       "      <td>16.0</td>\n",
       "      <td>125.17</td>\n",
       "      <td>49.0</td>\n",
       "      <td>24029.00</td>\n",
       "      <td>Chicago-Naperville-Elgin, IL-IN-WI MSA</td>\n",
       "      <td>surf</td>\n",
       "      <td>0.0</td>\n",
       "      <td>110.0000</td>\n",
       "    </tr>\n",
       "  </tbody>\n",
       "</table>\n",
       "</div>"
      ],
      "text/plain": [
       "      user_id  month  calls  duration  messages   mb_used  \\\n",
       "2097     1461     12   43.0    275.16       0.0  11126.94   \n",
       "2151     1474      9   34.0    248.74      30.0  23424.65   \n",
       "2207     1489     12   55.0    370.59      86.0  15321.07   \n",
       "827      1176     11   73.0    516.76      64.0  28528.76   \n",
       "1198     1258     12   16.0    125.17      49.0  24029.00   \n",
       "\n",
       "                                           city  plan  churn_month    profit  \n",
       "2097                         Pittsburgh, PA MSA  surf          0.0   20.0000  \n",
       "2151                        Bakersfield, CA MSA  surf          0.0  100.0000  \n",
       "2207            Detroit-Warren-Dearborn, MI MSA  surf          0.0   21.0800  \n",
       "827   New York-Newark-Jersey City, NY-NJ-PA MSA  surf          0.0  150.9228  \n",
       "1198     Chicago-Naperville-Elgin, IL-IN-WI MSA  surf          0.0  110.0000  "
      ]
     },
     "execution_count": 39,
     "metadata": {},
     "output_type": "execute_result"
    }
   ],
   "source": [
    "#querying only surf plan users\n",
    "surf_users = data_monthly.query('plan == \"surf\"').copy()\n",
    "surf_users.sample(5)"
   ]
  },
  {
   "cell_type": "code",
   "execution_count": 40,
   "metadata": {},
   "outputs": [
    {
     "data": {
      "text/html": [
       "<div>\n",
       "<style scoped>\n",
       "    .dataframe tbody tr th:only-of-type {\n",
       "        vertical-align: middle;\n",
       "    }\n",
       "\n",
       "    .dataframe tbody tr th {\n",
       "        vertical-align: top;\n",
       "    }\n",
       "\n",
       "    .dataframe thead th {\n",
       "        text-align: right;\n",
       "    }\n",
       "</style>\n",
       "<table border=\"1\" class=\"dataframe\">\n",
       "  <thead>\n",
       "    <tr style=\"text-align: right;\">\n",
       "      <th></th>\n",
       "      <th>user_id</th>\n",
       "      <th>month</th>\n",
       "      <th>calls</th>\n",
       "      <th>duration</th>\n",
       "      <th>messages</th>\n",
       "      <th>mb_used</th>\n",
       "      <th>city</th>\n",
       "      <th>plan</th>\n",
       "      <th>churn_month</th>\n",
       "      <th>profit</th>\n",
       "    </tr>\n",
       "  </thead>\n",
       "  <tbody>\n",
       "    <tr>\n",
       "      <td>153</td>\n",
       "      <td>1041</td>\n",
       "      <td>10</td>\n",
       "      <td>65.0</td>\n",
       "      <td>424.69</td>\n",
       "      <td>0.0</td>\n",
       "      <td>19097.12</td>\n",
       "      <td>Las Vegas-Henderson-Paradise, NV MSA</td>\n",
       "      <td>ultimate</td>\n",
       "      <td>0.0</td>\n",
       "      <td>70.0</td>\n",
       "    </tr>\n",
       "    <tr>\n",
       "      <td>1730</td>\n",
       "      <td>1380</td>\n",
       "      <td>12</td>\n",
       "      <td>84.0</td>\n",
       "      <td>539.92</td>\n",
       "      <td>42.0</td>\n",
       "      <td>23857.53</td>\n",
       "      <td>San Jose-Sunnyvale-Santa Clara, CA MSA</td>\n",
       "      <td>ultimate</td>\n",
       "      <td>0.0</td>\n",
       "      <td>70.0</td>\n",
       "    </tr>\n",
       "    <tr>\n",
       "      <td>1749</td>\n",
       "      <td>1384</td>\n",
       "      <td>10</td>\n",
       "      <td>43.0</td>\n",
       "      <td>351.07</td>\n",
       "      <td>83.0</td>\n",
       "      <td>25108.70</td>\n",
       "      <td>Philadelphia-Camden-Wilmington, PA-NJ-DE-MD MSA</td>\n",
       "      <td>ultimate</td>\n",
       "      <td>0.0</td>\n",
       "      <td>70.0</td>\n",
       "    </tr>\n",
       "    <tr>\n",
       "      <td>209</td>\n",
       "      <td>1050</td>\n",
       "      <td>7</td>\n",
       "      <td>63.0</td>\n",
       "      <td>403.42</td>\n",
       "      <td>0.0</td>\n",
       "      <td>16132.82</td>\n",
       "      <td>Miami-Fort Lauderdale-West Palm Beach, FL MSA</td>\n",
       "      <td>ultimate</td>\n",
       "      <td>10.0</td>\n",
       "      <td>70.0</td>\n",
       "    </tr>\n",
       "    <tr>\n",
       "      <td>417</td>\n",
       "      <td>1088</td>\n",
       "      <td>9</td>\n",
       "      <td>31.0</td>\n",
       "      <td>195.71</td>\n",
       "      <td>57.0</td>\n",
       "      <td>15253.79</td>\n",
       "      <td>Phoenix-Mesa-Chandler, AZ MSA</td>\n",
       "      <td>ultimate</td>\n",
       "      <td>0.0</td>\n",
       "      <td>70.0</td>\n",
       "    </tr>\n",
       "  </tbody>\n",
       "</table>\n",
       "</div>"
      ],
      "text/plain": [
       "      user_id  month  calls  duration  messages   mb_used  \\\n",
       "153      1041     10   65.0    424.69       0.0  19097.12   \n",
       "1730     1380     12   84.0    539.92      42.0  23857.53   \n",
       "1749     1384     10   43.0    351.07      83.0  25108.70   \n",
       "209      1050      7   63.0    403.42       0.0  16132.82   \n",
       "417      1088      9   31.0    195.71      57.0  15253.79   \n",
       "\n",
       "                                                 city      plan  churn_month  \\\n",
       "153              Las Vegas-Henderson-Paradise, NV MSA  ultimate          0.0   \n",
       "1730           San Jose-Sunnyvale-Santa Clara, CA MSA  ultimate          0.0   \n",
       "1749  Philadelphia-Camden-Wilmington, PA-NJ-DE-MD MSA  ultimate          0.0   \n",
       "209     Miami-Fort Lauderdale-West Palm Beach, FL MSA  ultimate         10.0   \n",
       "417                     Phoenix-Mesa-Chandler, AZ MSA  ultimate          0.0   \n",
       "\n",
       "      profit  \n",
       "153     70.0  \n",
       "1730    70.0  \n",
       "1749    70.0  \n",
       "209     70.0  \n",
       "417     70.0  "
      ]
     },
     "execution_count": 40,
     "metadata": {},
     "output_type": "execute_result"
    }
   ],
   "source": [
    "#querying only ultimate plan users\n",
    "ultimate_users = data_monthly.query('plan == \"ultimate\"').copy()\n",
    "ultimate_users.sample(5)"
   ]
  },
  {
   "cell_type": "code",
   "execution_count": 45,
   "metadata": {},
   "outputs": [
    {
     "name": "stdout",
     "output_type": "stream",
     "text": [
      "Calls duration for surf users:\n",
      "count    1548.000000\n",
      "mean      404.815581\n",
      "std       222.396099\n",
      "min         0.000000\n",
      "25%       255.097500\n",
      "50%       401.520000\n",
      "75%       543.847500\n",
      "max      1431.220000\n",
      "Name: duration, dtype: float64\n",
      "\n",
      "Calls duration for ultimate users:\n",
      "count     708.000000\n",
      "mean      405.914477\n",
      "std       227.697201\n",
      "min         0.000000\n",
      "25%       244.362500\n",
      "50%       399.095000\n",
      "75%       532.227500\n",
      "max      1292.090000\n",
      "Name: duration, dtype: float64\n",
      "\n",
      "The mean for calls for surf users: 404.81558139534883\n",
      "The mean for calls for ultimate users: 405.91447740112994\n",
      "\n",
      "The median for calls for surf users: 401.52\n",
      "The median for calls for ultimate users: 399.09499999999997\n",
      "\n",
      "The variance for calls for surf users: 49428.074117168435\n",
      "The variance for calls for ultimate users: 51772.78651370994\n",
      "\n",
      "The standard deviation for calls for surf users: 222.32425445094478\n",
      "The standard deviation for calls for ultimate users: 227.5363410835947\n"
     ]
    },
    {
     "data": {
      "image/png": "[encoded data removed]",
      "text/plain": [
       "<Figure size 432x288 with 1 Axes>"
      ]
     },
     "metadata": {
      "needs_background": "light"
     },
     "output_type": "display_data"
    }
   ],
   "source": [
    "#print out general info for calls duration\n",
    "print('Calls duration for surf users:')\n",
    "print(surf_users['duration'].describe())\n",
    "print()\n",
    "print('Calls duration for ultimate users:')\n",
    "print(ultimate_users['duration'].describe())\n",
    "print()\n",
    "print('The mean for calls for surf users:', surf_users['duration'].mean())\n",
    "print('The mean for calls for ultimate users:', ultimate_users['duration'].mean())\n",
    "print()\n",
    "print('The median for calls for surf users:', surf_users['duration'].median())\n",
    "print('The median for calls for ultimate users:', ultimate_users['duration'].median())\n",
    "print()\n",
    "print('The variance for calls for surf users:', np.var(surf_users['duration']))\n",
    "print('The variance for calls for ultimate users:', np.var(ultimate_users['duration']))\n",
    "print()\n",
    "print('The standard deviation for calls for surf users:', np.std(surf_users['duration']))\n",
    "print('The standard deviation for calls for ultimate users:', np.std(ultimate_users['duration']))\n",
    "\n",
    "bins = np.linspace(data_monthly['duration'].min(), data_monthly['duration'].max(), 100)\n",
    "\n",
    "plt.hist(surf_users['duration'], bins, alpha=0.5, label='Surf users')\n",
    "plt.hist(ultimate_users['duration'], bins, alpha=0.5, label='Ultimate users')\n",
    "plt.legend(loc='upper right')\n",
    "plt.title(\"Monthly Call Duration Distribution\")\n",
    "plt.xlabel(\"Monthly Call Duration, min\")\n",
    "plt.show()"
   ]
  },
  {
   "cell_type": "markdown",
   "metadata": {},
   "source": [
    "As for calls duration, for both histograms there's a peak around 400 minutes. Surf users histogram has a drop after 600 minutes, while Ultimate users histogram has a drop after 800. We also see that in a range of 0-800 minutes, histogram for Surf users is skewed to the left, while on histogram for Ultimate users it's skewed to the right."
   ]
  },
  {
   "cell_type": "code",
   "execution_count": 46,
   "metadata": {},
   "outputs": [
    {
     "name": "stdout",
     "output_type": "stream",
     "text": [
      "Messages for surf users:\n",
      "count    1548.000000\n",
      "mean       31.111757\n",
      "std        33.641112\n",
      "min         0.000000\n",
      "25%         3.000000\n",
      "50%        24.000000\n",
      "75%        47.000000\n",
      "max       266.000000\n",
      "Name: messages, dtype: float64\n",
      "\n",
      "Messages for ultimate users:\n",
      "count    708.000000\n",
      "mean      37.798023\n",
      "std       34.896049\n",
      "min        0.000000\n",
      "25%        7.000000\n",
      "50%       30.000000\n",
      "75%       61.000000\n",
      "max      166.000000\n",
      "Name: messages, dtype: float64\n",
      "\n",
      "The mean for messages for surf users: 31.111757105943152\n",
      "The mean for messages for ultimate users: 37.798022598870055\n",
      "\n",
      "The median for messages for surf users: 24.0\n",
      "The median for messages for ultimate users: 30.0\n",
      "\n",
      "The variance for messages for surf users: 1130.9933243027597\n",
      "The variance for messages for ultimate users: 1216.0142898751956\n",
      "\n",
      "The standard deviation for messages for surf users: 33.63024419035282\n",
      "The standard deviation for messages for ultimate users: 34.87139644286124\n"
     ]
    },
    {
     "data": {
      "image/png": "[encoded data removed]",
      "text/plain": [
       "<Figure size 432x288 with 1 Axes>"
      ]
     },
     "metadata": {
      "needs_background": "light"
     },
     "output_type": "display_data"
    }
   ],
   "source": [
    "#print out general info for messages usage\n",
    "\n",
    "print('Messages for surf users:')\n",
    "print(surf_users['messages'].describe())\n",
    "print()\n",
    "print('Messages for ultimate users:')\n",
    "print(ultimate_users['messages'].describe())\n",
    "print()\n",
    "print('The mean for messages for surf users:', surf_users['messages'].mean())\n",
    "print('The mean for messages for ultimate users:', ultimate_users['messages'].mean())\n",
    "print()\n",
    "print('The median for messages for surf users:', surf_users['messages'].median())\n",
    "print('The median for messages for ultimate users:', ultimate_users['messages'].median())\n",
    "print()\n",
    "print('The variance for messages for surf users:', np.var(surf_users['messages']))\n",
    "print('The variance for messages for ultimate users:', np.var(ultimate_users['messages']))\n",
    "print()\n",
    "print('The standard deviation for messages for surf users:', np.std(surf_users['messages']))\n",
    "print('The standard deviation for messages for ultimate users:', np.std(ultimate_users['messages']))\n",
    "\n",
    "bins = np.linspace(data_monthly['messages'].min(), data_monthly['messages'].max(), 100)\n",
    "\n",
    "plt.hist(surf_users['messages'], bins, alpha=0.5, label='Surf users')\n",
    "plt.hist(ultimate_users['messages'], bins, alpha=0.5, label='Ultimate users')\n",
    "plt.legend(loc='upper right')\n",
    "plt.title(\"Monthly Messages Distribution\")\n",
    "plt.xlabel(\"Messages per month\")\n",
    "plt.show()"
   ]
  },
  {
   "cell_type": "markdown",
   "metadata": {},
   "source": [
    "When we look at the messages histogram, we see that there are a lot of people who don't send messages at all, there's a peak at zero in both histograms. On the Surf users histogram we see that mostly users send up to 50 messages, less send up to 100, then there's a drop and almost no one sends more than 150 messages. On Ultimate users histogram we see pertty much the same height in a range 0-75 messages, then drop after 100 messages. Actually, max value according to the data sample we have is higher for Surf users (266) than it is for Ultimate users (166)"
   ]
  },
  {
   "cell_type": "code",
   "execution_count": 47,
   "metadata": {},
   "outputs": [
    {
     "name": "stdout",
     "output_type": "stream",
     "text": [
      "Internet usage for surf users:\n",
      "count     1548.000000\n",
      "mean     16560.312513\n",
      "std       8006.513662\n",
      "min          0.000000\n",
      "25%      12040.765000\n",
      "50%      16831.365000\n",
      "75%      20992.482500\n",
      "max      70931.590000\n",
      "Name: mb_used, dtype: float64\n",
      "\n",
      "Internet usage for ultimate users:\n",
      "count      708.000000\n",
      "mean     17242.419379\n",
      "std       7883.455719\n",
      "min          0.000000\n",
      "25%      12671.450000\n",
      "50%      16858.340000\n",
      "75%      21096.085000\n",
      "max      46595.330000\n",
      "Name: mb_used, dtype: float64\n",
      "\n",
      "The mean for internet usage for surf users: 16560.312512919896\n",
      "The mean for internet usage for ultimate users: 17242.41937853107\n",
      "\n",
      "The median for internet usage for surf users: 16831.364999999998\n",
      "The median for internet usage for ultimate users: 16858.34\n",
      "\n",
      "The variance for internet usage for surf users: 64062850.00093122\n",
      "The variance for internet usage for ultimate users: 62061093.17720075\n",
      "\n",
      "The standard deviation for internet usage for surf users: 8003.927161146034\n",
      "The standard deviation for internet usage for ultimate users: 7877.88633944415\n"
     ]
    },
    {
     "data": {
      "image/png": "[encoded data removed]",
      "text/plain": [
       "<Figure size 432x288 with 1 Axes>"
      ]
     },
     "metadata": {
      "needs_background": "light"
     },
     "output_type": "display_data"
    }
   ],
   "source": [
    "#print out general info for internet users\n",
    "\n",
    "print('Internet usage for surf users:')\n",
    "print(surf_users['mb_used'].describe())\n",
    "print()\n",
    "print('Internet usage for ultimate users:')\n",
    "print(ultimate_users['mb_used'].describe())\n",
    "print()\n",
    "print('The mean for internet usage for surf users:', surf_users['mb_used'].mean())\n",
    "print('The mean for internet usage for ultimate users:', ultimate_users['mb_used'].mean())\n",
    "print()\n",
    "print('The median for internet usage for surf users:', surf_users['mb_used'].median())\n",
    "print('The median for internet usage for ultimate users:', ultimate_users['mb_used'].median())\n",
    "print()\n",
    "print('The variance for internet usage for surf users:', np.var(surf_users['mb_used']))\n",
    "print('The variance for internet usage for ultimate users:', np.var(ultimate_users['mb_used']))\n",
    "print()\n",
    "print('The standard deviation for internet usage for surf users:', np.std(surf_users['mb_used']))\n",
    "print('The standard deviation for internet usage for ultimate users:', np.std(ultimate_users['mb_used']))\n",
    "\n",
    "bins = np.linspace(data_monthly['mb_used'].min(), data_monthly['mb_used'].max(), 100)\n",
    "\n",
    "plt.hist(surf_users['mb_used'], bins, alpha=0.5, label='Surf users')\n",
    "plt.hist(ultimate_users['mb_used'], bins, alpha=0.5, label='Ultimate users')\n",
    "plt.legend(loc='upper right')\n",
    "plt.show()"
   ]
  },
  {
   "cell_type": "markdown",
   "metadata": {},
   "source": [
    "What about internet usage? Although on both histograms we can see a peak around 17000 mb, we see that on Surf users histogram there's a drop after 25 000 mb, while on Ultimate users histogram there's a drop after 30 000 mb. As for max values - actually Ultimate users use up to 40 000 mb max, while max value for Surf users is much higher - around 70 000 mb."
   ]
  },
  {
   "cell_type": "markdown",
   "metadata": {},
   "source": [
    "After studying these graphs we come to overall conclusion, that Surf plan users require on average 429 minutes, 31 messages and 16638 mb per month, while Ultimate plan users require on average 430 minutes, 38 messages and 17319 mb per month."
   ]
  },
  {
   "cell_type": "markdown",
   "metadata": {},
   "source": [
    "### Test the hypotheses:"
   ]
  },
  {
   "cell_type": "markdown",
   "metadata": {},
   "source": [
    "<a id=\"part4_1\"></a>\n",
    "#### The average revenue from users of Ultimate and Surf calling plans differs"
   ]
  },
  {
   "cell_type": "code",
   "execution_count": 48,
   "metadata": {},
   "outputs": [
    {
     "name": "stdout",
     "output_type": "stream",
     "text": [
      "Surf users profit:\n",
      "count    1548.000000\n",
      "mean       60.271653\n",
      "std        55.227070\n",
      "min        20.000000\n",
      "25%        20.000000\n",
      "50%        40.255000\n",
      "75%        80.000000\n",
      "max       588.637200\n",
      "Name: profit, dtype: float64\n",
      "\n",
      "Average profit from surf users: 60.2716531007752\n",
      "Variance for surf users profit: 3048.058947358782\n",
      "\n",
      "Ultimate users profit:\n",
      "count    708.000000\n",
      "mean      72.353107\n",
      "std       11.487385\n",
      "min       70.000000\n",
      "25%       70.000000\n",
      "50%       70.000000\n",
      "75%       70.000000\n",
      "max      182.000000\n",
      "Name: profit, dtype: float64\n",
      "\n",
      "Average profit from ultimate users: 72.35310734463278\n",
      "Variance for ultimate users profit: 131.77362028791214\n"
     ]
    }
   ],
   "source": [
    "#print out general info about profit\n",
    "surf_profit = surf_users['profit']\n",
    "ultimate_profit = ultimate_users['profit']\n",
    "print('Surf users profit:')\n",
    "print(surf_profit.describe())\n",
    "print()\n",
    "print('Average profit from surf users:', surf_profit.mean())\n",
    "print('Variance for surf users profit:', np.var(surf_profit))\n",
    "print()\n",
    "print('Ultimate users profit:')\n",
    "print(ultimate_profit.describe())\n",
    "print()\n",
    "print('Average profit from ultimate users:', ultimate_profit.mean())\n",
    "print('Variance for ultimate users profit:', np.var(ultimate_profit))"
   ]
  },
  {
   "cell_type": "code",
   "execution_count": 49,
   "metadata": {},
   "outputs": [
    {
     "data": {
      "image/png": "[encoded data removed]",
      "text/plain": [
       "<Figure size 432x288 with 1 Axes>"
      ]
     },
     "metadata": {
      "needs_background": "light"
     },
     "output_type": "display_data"
    },
    {
     "name": "stdout",
     "output_type": "stream",
     "text": [
      "Overall profit from Surf users: 93300.519\n",
      "Overall profit from Ultimate users: 51226.0\n",
      "\n",
      "Percentage of Surf users: 68.6%\n",
      "Percentage of Ultimate users: 31.4%\n"
     ]
    }
   ],
   "source": [
    "#visualizing monthly profit\n",
    "bins = np.linspace(data_monthly['profit'].min(), data_monthly['profit'].max(), 100)\n",
    "\n",
    "plt.hist(surf_users['profit'], bins, alpha=0.5, label='Surf users')\n",
    "plt.hist(ultimate_users['profit'], bins, alpha=0.5, label='Ultimate users')\n",
    "plt.legend(loc='upper right')\n",
    "plt.show()\n",
    "\n",
    "print('Overall profit from Surf users:', surf_users['profit'].sum())\n",
    "print('Overall profit from Ultimate users:', ultimate_users['profit'].sum())\n",
    "print()\n",
    "print('Percentage of Surf users:', \"{:.1%}\".format(len(surf_users) / len(data_monthly)))\n",
    "print('Percentage of Ultimate users:', \"{:.1%}\".format(len(ultimate_users) / len(data_monthly)))"
   ]
  },
  {
   "cell_type": "code",
   "execution_count": 50,
   "metadata": {},
   "outputs": [
    {
     "name": "stdout",
     "output_type": "stream",
     "text": [
      "count    1548.000000\n",
      "mean       60.271653\n",
      "std        55.227070\n",
      "min        20.000000\n",
      "25%        20.000000\n",
      "50%        40.255000\n",
      "75%        80.000000\n",
      "max       588.637200\n",
      "Name: profit, dtype: float64\n",
      "\n",
      "Outer upper fence for profit from Surf users: 300.0\n",
      "\n",
      "count    708.000000\n",
      "mean      72.353107\n",
      "std       11.487385\n",
      "min       70.000000\n",
      "25%       70.000000\n",
      "50%       70.000000\n",
      "75%       70.000000\n",
      "max      182.000000\n",
      "Name: profit, dtype: float64\n",
      "\n",
      "Outer upper fence for profit from Ultimate users: 210.0\n"
     ]
    }
   ],
   "source": [
    "#detecting the outliers\n",
    "\n",
    "surf_desc = surf_profit.describe()\n",
    "print(surf_desc)\n",
    "print()\n",
    "print('Outer upper fence for profit from Surf users:', (surf_desc['75%'] - surf_desc['25%']) + surf_desc['75%'] * 3)\n",
    "print()\n",
    "ulti_desc = ultimate_profit.describe()\n",
    "print(ulti_desc)\n",
    "print()\n",
    "print('Outer upper fence for profit from Ultimate users:', (ulti_desc['75%'] - ulti_desc['25%']) + ulti_desc['75%'] * 3)"
   ]
  },
  {
   "cell_type": "code",
   "execution_count": 51,
   "metadata": {},
   "outputs": [],
   "source": [
    "# creating a dataset free from outliers\n",
    "\n",
    "surf_profit_checked = surf_users.query('profit <= 300.6')['profit'] #how can I use a variable here instead of number? Did not suceed to make a query where profit would be less than variable i declared before.\n",
    "ultimate_profit_checked = ultimate_users.query('profit <= 210')['profit']"
   ]
  },
  {
   "cell_type": "code",
   "execution_count": 52,
   "metadata": {},
   "outputs": [
    {
     "name": "stdout",
     "output_type": "stream",
     "text": [
      "p-value: 4.267370937175115e-24\n",
      "We reject the null hypothesis\n"
     ]
    }
   ],
   "source": [
    "alpha = 0.05\n",
    "\n",
    "results1 = st.ttest_ind(surf_profit_checked, ultimate_profit_checked, equal_var=False) #run the t-test for two statistical populations whith different variances\n",
    "\n",
    "\n",
    "print('p-value:', results1.pvalue)\n",
    "if (results1.pvalue < alpha):\n",
    "    print('We reject the null hypothesis')\n",
    "else:\n",
    "    print(\"We can't reject the null hypothesis\")"
   ]
  },
  {
   "cell_type": "markdown",
   "metadata": {},
   "source": [
    "From the graph of profits from users of both plans, we see that overall sum of profits from Surf plan users is significantly greater than that of Ultimate plan users, because there are more of them (68.6% Surf users vs 31.4% Ultimate users)\n",
    "\n",
    "Let's check if average profit from users of different plan differs. The null hypothesis will sound like \"The average profit from users of Ultimate and Surf plans is the same\". Alternative hypothesis will sound like \"The average profit from users of Ultimate and Surf plans differs\". We set significance level to 0.05 as we did in the examples we've studied.\n",
    "\n",
    "After running the statistical test we see that the data provided sufficient evidence, given the significance level we selected, to reject the null hypothesis. Therefore, we can conclude that average profit differs for users of disserent plans. If we look at the numbers provided by the sample we have, we see that average profit from Surf plan users is 60.5 dollars while average profit from Ultimate plan users is 72.3 dollars."
   ]
  },
  {
   "cell_type": "markdown",
   "metadata": {},
   "source": [
    "<a id=\"part4_2\"></a>\n",
    "#### The average revenue from users in NY-NJ area is different from that of the users from other regions"
   ]
  },
  {
   "cell_type": "code",
   "execution_count": 53,
   "metadata": {},
   "outputs": [
    {
     "data": {
      "text/plain": [
       "New York-Newark-Jersey City, NY-NJ-PA MSA          371\n",
       "Los Angeles-Long Beach-Anaheim, CA MSA             129\n",
       "Chicago-Naperville-Elgin, IL-IN-WI MSA              93\n",
       "Dallas-Fort Worth-Arlington, TX MSA                 88\n",
       "Philadelphia-Camden-Wilmington, PA-NJ-DE-MD MSA     82\n",
       "                                                  ... \n",
       "Oxnard-Thousand Oaks-Ventura, CA MSA                 4\n",
       "Omaha-Council Bluffs, NE-IA MSA                      3\n",
       "El Paso, TX MSA                                      2\n",
       "Jacksonville, FL MSA                                 2\n",
       "Cape Coral-Fort Myers, FL MSA                        1\n",
       "Name: city, Length: 72, dtype: int64"
      ]
     },
     "execution_count": 53,
     "metadata": {},
     "output_type": "execute_result"
    }
   ],
   "source": [
    "data_monthly['city'].value_counts() #check to see the name of the area"
   ]
  },
  {
   "cell_type": "code",
   "execution_count": 55,
   "metadata": {},
   "outputs": [
    {
     "name": "stdout",
     "output_type": "stream",
     "text": [
      "    user_id  month  calls  duration  messages   mb_used  \\\n",
      "56     1014     11   28.0    149.33       9.0   1175.59   \n",
      "57     1014     12  150.0   1050.62      64.0   7792.41   \n",
      "75     1022      5   39.0    287.34       0.0   4908.08   \n",
      "76     1022      6   76.0    455.45       0.0  23436.48   \n",
      "77     1022      7   70.0    448.25       0.0   9933.15   \n",
      "\n",
      "                                         city  plan  churn_month    profit  \n",
      "56  New York-Newark-Jersey City, NY-NJ-PA MSA  surf          0.0   20.0000  \n",
      "57  New York-Newark-Jersey City, NY-NJ-PA MSA  surf          0.0   36.9386  \n",
      "75  New York-Newark-Jersey City, NY-NJ-PA MSA  surf          9.0   20.0000  \n",
      "76  New York-Newark-Jersey City, NY-NJ-PA MSA  surf          9.0  100.0000  \n",
      "77  New York-Newark-Jersey City, NY-NJ-PA MSA  surf          9.0   20.0000  \n",
      "\n",
      "Percentage of surf users in NY-NJ: 82.5%\n",
      "Percentage of ultimate users in NY-NJ: 17.5%\n"
     ]
    }
   ],
   "source": [
    "#querying only users from NY-NJ and checking general info\n",
    "nynj_users = data_monthly.query('city == \"New York-Newark-Jersey City, NY-NJ-PA MSA\"')\n",
    "print(nynj_users.head())\n",
    "print()\n",
    "print('Percentage of surf users in NY-NJ:', \"{:.1%}\".format(len(nynj_users.query('plan == \"surf\"')) / len(nynj_users)))\n",
    "print('Percentage of ultimate users in NY-NJ:', \"{:.1%}\".format(len(nynj_users.query('plan == \"ultimate\"')) / len(nynj_users)))"
   ]
  },
  {
   "cell_type": "code",
   "execution_count": 56,
   "metadata": {
    "scrolled": false
   },
   "outputs": [
    {
     "name": "stdout",
     "output_type": "stream",
     "text": [
      "   user_id  month  calls  duration  messages   mb_used  \\\n",
      "0     1000     12   16.0    116.83      11.0   1901.47   \n",
      "1     1001      8   27.0    171.14      30.0   6919.15   \n",
      "2     1001      9   49.0    297.69      44.0  13314.82   \n",
      "3     1001     10   65.0    374.11      53.0  22330.49   \n",
      "4     1001     11   64.0    404.59      36.0  18504.30   \n",
      "\n",
      "                                    city      plan  churn_month  profit  \n",
      "0  Atlanta-Sandy Springs-Roswell, GA MSA  ultimate          0.0   70.00  \n",
      "1        Seattle-Tacoma-Bellevue, WA MSA      surf          0.0   20.00  \n",
      "2        Seattle-Tacoma-Bellevue, WA MSA      surf          0.0   20.00  \n",
      "3        Seattle-Tacoma-Bellevue, WA MSA      surf          0.0   90.09  \n",
      "4        Seattle-Tacoma-Bellevue, WA MSA      surf          0.0   60.00  \n",
      "\n",
      "Percentage of surf users in other regions: 68.6%\n",
      "Percentage of ultimate users in other regions: 31.4%\n"
     ]
    }
   ],
   "source": [
    "#querying only users not from NY-NJ and checking general info\n",
    "rest_users = data_monthly.query('city != \"New York-Newark-Jersey City, NY-NJ-PA MSA \"')\n",
    "print(rest_users.head())\n",
    "print()\n",
    "print('Percentage of surf users in other regions:', \"{:.1%}\".format(len(rest_users.query('plan == \"surf\"')) / len(rest_users)))\n",
    "print('Percentage of ultimate users in other regions:', \"{:.1%}\".format(len(rest_users.query('plan == \"ultimate\"')) / len(rest_users)))"
   ]
  },
  {
   "cell_type": "code",
   "execution_count": 57,
   "metadata": {},
   "outputs": [
    {
     "name": "stdout",
     "output_type": "stream",
     "text": [
      "Profit from users from NY-NJ area:\n",
      "count    371.000000\n",
      "mean      59.617789\n",
      "std       43.706569\n",
      "min       20.000000\n",
      "25%       20.000000\n",
      "50%       50.588600\n",
      "75%       71.366350\n",
      "max      280.000000\n",
      "Name: profit, dtype: float64\n",
      "\n",
      "Average profit from users of NY-NJ area: 59.61778867924528\n",
      "Variance for NY-NJ users profit: 1905.115193324023\n",
      "\n",
      "Profit from users from other regions:\n",
      "count    2256.000000\n",
      "mean       64.063173\n",
      "std        46.532064\n",
      "min        20.000000\n",
      "25%        22.537700\n",
      "50%        70.000000\n",
      "75%        70.000000\n",
      "max       588.637200\n",
      "Name: profit, dtype: float64\n",
      "\n",
      "Average profit from users from other regions: 64.06317331560282\n",
      "Variance of profit from users from other regions: 2164.2731961010254\n"
     ]
    }
   ],
   "source": [
    "#comparing profit from NY-NJ/Rest of users\n",
    "nynj_profit = nynj_users['profit']\n",
    "rest_profit = rest_users['profit']\n",
    "\n",
    "print('Profit from users from NY-NJ area:')\n",
    "print(nynj_profit.describe())\n",
    "print()\n",
    "print('Average profit from users of NY-NJ area:', nynj_profit.mean())\n",
    "print('Variance for NY-NJ users profit:', np.var(nynj_profit))\n",
    "print()\n",
    "print('Profit from users from other regions:')\n",
    "print(rest_profit.describe())\n",
    "print()\n",
    "print('Average profit from users from other regions:', rest_profit.mean())\n",
    "print('Variance of profit from users from other regions:', np.var(rest_profit))"
   ]
  },
  {
   "cell_type": "code",
   "execution_count": 58,
   "metadata": {},
   "outputs": [
    {
     "name": "stdout",
     "output_type": "stream",
     "text": [
      "count    371.000000\n",
      "mean      59.617789\n",
      "std       43.706569\n",
      "min       20.000000\n",
      "25%       20.000000\n",
      "50%       50.588600\n",
      "75%       71.366350\n",
      "max      280.000000\n",
      "Name: profit, dtype: float64\n",
      "\n",
      "Outer upper fence for profit from users from NY-NJ: 265.4654\n",
      "\n",
      "count    2256.000000\n",
      "mean       64.063173\n",
      "std        46.532064\n",
      "min        20.000000\n",
      "25%        22.537700\n",
      "50%        70.000000\n",
      "75%        70.000000\n",
      "max       588.637200\n",
      "Name: profit, dtype: float64\n",
      "\n",
      "Outer upper fence for profit from users from other regions: 257.4623\n"
     ]
    }
   ],
   "source": [
    "#detecting the outliers\n",
    "\n",
    "nynj_desc = nynj_profit.describe()\n",
    "print(nynj_desc)\n",
    "print()\n",
    "print('Outer upper fence for profit from users from NY-NJ:', (nynj_desc['75%'] - nynj_desc['25%']) + nynj_desc['75%'] * 3)\n",
    "print()\n",
    "rest_desc = rest_profit.describe()\n",
    "print(rest_desc)\n",
    "print()\n",
    "print('Outer upper fence for profit from users from other regions:', (rest_desc['75%'] - rest_desc['25%']) + rest_desc['75%'] * 3)"
   ]
  },
  {
   "cell_type": "code",
   "execution_count": 59,
   "metadata": {},
   "outputs": [],
   "source": [
    "# creating a dataset free from outliers\n",
    "\n",
    "nynj_profit_checked = nynj_users.query('profit <= 269.24')['profit']\n",
    "rest_profit_checked = rest_users.query('profit <= 210')['profit']"
   ]
  },
  {
   "cell_type": "code",
   "execution_count": 60,
   "metadata": {
    "scrolled": true
   },
   "outputs": [
    {
     "name": "stdout",
     "output_type": "stream",
     "text": [
      "p-value: 0.5381980048853159\n",
      "We reject the null hypothesis\n"
     ]
    }
   ],
   "source": [
    "alpha = 0.05\n",
    "\n",
    "results2 = st.ttest_ind(nynj_profit_checked, rest_profit_checked, equal_var=False) #run the t-test for two statistical populations whith different variances\n",
    "\n",
    "print('p-value:', results2.pvalue)\n",
    "if (results1.pvalue < alpha):\n",
    "    print('We reject the null hypothesis')\n",
    "else:\n",
    "    print(\"We can't reject the null hypothesis\")"
   ]
  },
  {
   "cell_type": "markdown",
   "metadata": {},
   "source": [
    "Let's check if average profit from users from NY-NJ area differs from that of users from other regions. Null hypothesis will sound like \"The average profit from users from NY-NJ area is equal to that of users from other regions\". Alternative hypothesis will sound like \"The average profit from users from NY-NJ region differs from that of users from other regions\". We set significance level to 0.05 like in the examples we've studied.\n",
    "\n",
    "After running the statistical test we see that the data provided sufficient evidence, given the significance level we selected, to reject the null hypothesis. Therefore, we can conclude that the average profit from users from NY-NJ area differs from that of users from other regions. Looking at the numbers of users of different tariff plans, we see that 82% of NY-NJ users use Surf tariff plan, when in other regions the percentage is lower - about 68%. That can explain why the average profit from users from NY-NJ area is 59.8 which islower than that of users from other regions(64.3)."
   ]
  },
  {
   "cell_type": "markdown",
   "metadata": {},
   "source": [
    "<a id=\"part5\"></a>\n",
    "### Overall conclusion"
   ]
  },
  {
   "cell_type": "markdown",
   "metadata": {},
   "source": [
    "We saw that the customer's behaviour is not that different for both plans, although Ultimate users tend to spend a little bit more minutes, texts and internet than Surf users. We also see that because Surf limits are much lower than Ultimate's limits, Surf users are highly likely to exceed their limits and in average they spend much more money than just cost of pre-paid plan, while Ultimate users seem to almost never exceed their limits. Obviously, there are also more of the Surf users (68.6% in our sample), since the cost of the Surf package is much lower than the cost of Ultimate package.\n",
    "\n",
    "With everything said, we see that Ultimate plan on average is more profitable for the Megaline company than the Surf plan. We can see evidence when comparing different regions: the higher the percentage of Surf users, the lower the average profit. I would recommend to ajust advertising budget according to this conclusion."
   ]
  }
 ],
 "metadata": {
  "ExecuteTimeLog": [
   {
    "duration": 1452,
    "start_time": "2021-06-22T10:45:50.921Z"
   },
   {
    "duration": 87,
    "start_time": "2021-06-22T10:45:53.067Z"
   },
   {
    "duration": 35,
    "start_time": "2021-06-22T10:45:56.581Z"
   },
   {
    "duration": 173,
    "start_time": "2021-06-22T10:45:57.387Z"
   },
   {
    "duration": 100,
    "start_time": "2021-06-22T10:45:58.690Z"
   },
   {
    "duration": 155,
    "start_time": "2021-06-22T10:46:00.040Z"
   },
   {
    "duration": 22,
    "start_time": "2021-06-22T10:46:15.544Z"
   },
   {
    "duration": 603,
    "start_time": "2021-06-22T10:48:09.787Z"
   },
   {
    "duration": 50,
    "start_time": "2021-06-22T10:48:27.045Z"
   },
   {
    "duration": 42,
    "start_time": "2021-06-22T10:48:31.770Z"
   },
   {
    "duration": 70,
    "start_time": "2021-06-22T10:48:39.581Z"
   },
   {
    "duration": 77,
    "start_time": "2021-06-22T10:48:58.192Z"
   },
   {
    "duration": 59,
    "start_time": "2021-06-22T10:49:01.273Z"
   },
   {
    "duration": 50,
    "start_time": "2021-06-22T10:49:04.033Z"
   },
   {
    "duration": 58,
    "start_time": "2021-06-22T10:49:12.837Z"
   },
   {
    "duration": 70,
    "start_time": "2021-06-22T10:49:24.743Z"
   },
   {
    "duration": 37,
    "start_time": "2021-06-22T10:49:30.761Z"
   },
   {
    "duration": 37,
    "start_time": "2021-06-22T10:49:36.867Z"
   },
   {
    "duration": 48,
    "start_time": "2021-06-22T10:49:45.703Z"
   },
   {
    "duration": 421,
    "start_time": "2021-06-22T10:50:03.744Z"
   },
   {
    "duration": 49,
    "start_time": "2021-06-22T10:50:12.885Z"
   },
   {
    "duration": 33,
    "start_time": "2021-06-22T10:50:26.337Z"
   },
   {
    "duration": 34,
    "start_time": "2021-06-22T10:50:32.585Z"
   },
   {
    "duration": 39,
    "start_time": "2021-06-22T10:52:51.729Z"
   },
   {
    "duration": 13,
    "start_time": "2021-06-22T10:52:54.161Z"
   },
   {
    "duration": 18568,
    "start_time": "2021-06-22T10:52:54.913Z"
   },
   {
    "duration": 1219,
    "start_time": "2021-06-22T10:53:51.182Z"
   },
   {
    "duration": 604,
    "start_time": "2021-06-22T10:54:05.734Z"
   },
   {
    "duration": 707,
    "start_time": "2021-06-22T10:55:31.582Z"
   },
   {
    "duration": 591,
    "start_time": "2021-06-22T10:55:49.551Z"
   },
   {
    "duration": 617,
    "start_time": "2021-06-22T10:55:57.170Z"
   },
   {
    "duration": 1073,
    "start_time": "2021-06-22T10:57:09.295Z"
   },
   {
    "duration": 999,
    "start_time": "2021-06-22T10:57:18.738Z"
   },
   {
    "duration": 561,
    "start_time": "2021-06-22T10:58:59.910Z"
   },
   {
    "duration": 657,
    "start_time": "2021-06-22T11:00:15.691Z"
   },
   {
    "duration": 601,
    "start_time": "2021-06-22T11:00:25.465Z"
   },
   {
    "duration": 624,
    "start_time": "2021-06-22T11:01:23.342Z"
   },
   {
    "duration": 487,
    "start_time": "2021-06-22T11:01:54.043Z"
   },
   {
    "duration": 22,
    "start_time": "2021-06-22T11:02:00.234Z"
   },
   {
    "duration": 25,
    "start_time": "2021-06-22T11:02:11.445Z"
   },
   {
    "duration": 1477,
    "start_time": "2021-06-22T11:02:26.052Z"
   },
   {
    "duration": 1192,
    "start_time": "2021-06-22T11:03:24.472Z"
   },
   {
    "duration": 866,
    "start_time": "2021-06-22T11:04:00.050Z"
   },
   {
    "duration": 1296,
    "start_time": "2021-06-22T11:04:06.724Z"
   },
   {
    "duration": 880,
    "start_time": "2021-06-22T11:05:20.311Z"
   },
   {
    "duration": 883,
    "start_time": "2021-06-22T11:05:56.031Z"
   },
   {
    "duration": 857,
    "start_time": "2021-06-22T11:06:11.066Z"
   },
   {
    "duration": 21,
    "start_time": "2021-06-22T11:06:23.399Z"
   },
   {
    "duration": 1014,
    "start_time": "2021-06-22T11:06:27.243Z"
   },
   {
    "duration": 21,
    "start_time": "2021-06-22T11:06:34.711Z"
   },
   {
    "duration": 14,
    "start_time": "2021-06-22T11:06:35.827Z"
   },
   {
    "duration": 9,
    "start_time": "2021-06-22T11:06:36.752Z"
   },
   {
    "duration": 11,
    "start_time": "2021-06-22T11:06:45.678Z"
   },
   {
    "duration": 408,
    "start_time": "2021-06-22T11:06:46.844Z"
   },
   {
    "duration": 30,
    "start_time": "2021-06-22T11:07:04.190Z"
   },
   {
    "duration": 28,
    "start_time": "2021-06-22T11:07:12.476Z"
   },
   {
    "duration": 23,
    "start_time": "2021-06-22T11:07:17.666Z"
   },
   {
    "duration": 18,
    "start_time": "2021-06-22T11:07:21.173Z"
   },
   {
    "duration": 10,
    "start_time": "2021-06-22T11:07:23.729Z"
   },
   {
    "duration": 9,
    "start_time": "2021-06-22T11:07:24.592Z"
   }
  ],
  "kernelspec": {
   "display_name": "Python 3",
   "language": "python",
   "name": "python3"
  },
  "language_info": {
   "codemirror_mode": {
    "name": "ipython",
    "version": 3
   },
   "file_extension": ".py",
   "mimetype": "text/x-python",
   "name": "python",
   "nbconvert_exporter": "python",
   "pygments_lexer": "ipython3",
   "version": "3.7.6"
  },
  "toc": {
   "base_numbering": 1,
   "nav_menu": {},
   "number_sections": true,
   "sideBar": true,
   "skip_h1_title": true,
   "title_cell": "Table of Contents",
   "title_sidebar": "Contents",
   "toc_cell": false,
   "toc_position": {},
   "toc_section_display": true,
   "toc_window_display": false
  }
 },
 "nbformat": 4,
 "nbformat_minor": 2
}
